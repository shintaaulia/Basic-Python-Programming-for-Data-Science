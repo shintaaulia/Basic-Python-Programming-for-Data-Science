{
  "nbformat": 4,
  "nbformat_minor": 0,
  "metadata": {
    "colab": {
      "name": "Shinta Aulia Septiani 1800015054 Mini_Projek_Kelas_Dasar.ipynb",
      "provenance": [],
      "collapsed_sections": []
    },
    "kernelspec": {
      "name": "python3",
      "display_name": "Python 3"
    },
    "language_info": {
      "name": "python"
    }
  },
  "cells": [
    {
      "cell_type": "markdown",
      "metadata": {
        "id": "KQTLslklqo9k"
      },
      "source": [
        "## Nama : Shinta Aulia Septiani \n",
        "## NIM : 1800015054"
      ]
    },
    {
      "cell_type": "markdown",
      "metadata": {
        "id": "hQBfXiSBZ8FT"
      },
      "source": [
        "# Pendahuluan"
      ]
    },
    {
      "cell_type": "markdown",
      "metadata": {
        "id": "Bv3d8mxkZ_PZ"
      },
      "source": [
        "Assalamualaikum warahmatullahi wabarakatuh\n",
        "Robbi Zidni Ilma Warzuqni Fahma\n",
        "\n",
        "Selamat datang di modul Mini Projek Kelas Dasar\n",
        "Dalam modul ini kamu diminta untuk menyelesaikan:\n",
        "* [A] 1 tugas sederhana,\n",
        "* [B] 1 tugas kompleks,  dan \n",
        "* [C] 1 tugas tantangan.\n",
        "\n",
        "Ketentuan Penilaian:\n",
        "1. Soal yang wajib diselesaikan adalah tugas [A] dan [B] dengan nilai masing-masing adalah **20** dan **80**\n",
        "\n",
        "2. Soal mini projek ini **berkaitan langsung** dengan tugas harian(per pertemuan). Bagi yang belum menyelesaikan tugas harian maka Mini Projeknya **TIDAK AKAN DINILAI**\n",
        "\n",
        "3. Tugas Tantangan [C] merupakan akumulasi dari tugas [A] dan tugas [B], Soal ini akan diunggah pada periode waktu tertentu dan dikumpulkan pada periode waktu tertentu. Nilai dari tugas tantangan ini adalah **100** setara dengan nilai **MINI PROJEK** dan **dua pin immunity**\n",
        "\n",
        "4. Segala peraturan dalam Mini Projek ini bersifat mengikat dan tidak dapat diganggu gugat.\n",
        "\n",
        "5. Segala kendala yang dihadapi seperti susah signal, laptop rusak, berantem sama temen , dll agar dikomunikasikan kepada Intruktur atau Asisten Instruktur [TIDAK ADA JAMINAN KEMUDAHAN namun diberikan HAK UNTUK MENGAJUKAN KEMUDAHAN]\n",
        "\n",
        "6. Segala bentuk PLAGIASI/MENCONTEK HUKUMNYA **HARAM** dan secara otomatis **dikeluarkan dari Google Classroom**\n",
        "\n",
        "7. Ketentuan Waktu Mini Projek:\n",
        "\n",
        "|  Waktu  | Agenda |\n",
        "|---------|------- |\n",
        "|20 April 2021 | Unggah MP [A] dan [B] |\n",
        "|20 -  29 April 2021 | Pengerjaan & Pengumpulan untuk MP [A] dan [B] |\n",
        "|28 April 2021 | Unggah MP [C]|\n",
        "|28 - 29 April 2021 | Pengerjaan & Pengumpulan untuk MP [C]\n",
        "\n",
        "\n"
      ]
    },
    {
      "cell_type": "markdown",
      "metadata": {
        "id": "yGefMAyYdJCI"
      },
      "source": [
        "# MINI PROJEK [A]"
      ]
    },
    {
      "cell_type": "markdown",
      "metadata": {
        "id": "rauh67pJdsYf"
      },
      "source": [
        "## Fungsi \"Pos_Neg_Nol\""
      ]
    },
    {
      "cell_type": "markdown",
      "metadata": {
        "id": "5y1Z51DRdNdk"
      },
      "source": [
        "Buatlah sebuah fungsi \"Pos_Neg_Nol\" dengan ketentuan:\n",
        "1. Input berupa data numerik **Tunggal**\n",
        "2. Output sebuah teks/string yang menyatakan \"Positif\", \"Negatif\", \"Nol\""
      ]
    },
    {
      "cell_type": "code",
      "metadata": {
        "id": "nVrUcUoMSOVd",
        "colab": {
          "base_uri": "https://localhost:8080/"
        },
        "outputId": "c8a5073a-70ce-4863-a06e-2e634697b90d"
      },
      "source": [
        "#input data numerik tunggal\n",
        "def posnegnol(x):\n",
        "\n",
        "  #menentukan bilangan positif/negatif/nol\n",
        "  if x > 0 :\n",
        "    print(\"Bilangan {} merupakan bilangan positif\". format(x))\n",
        "  elif x < 0 :\n",
        "    print(\"Bilangan {} merupakan bilangan negatif\". format(x))\n",
        "  else :\n",
        "    print(\"Bilangan {} merupakan bilangan NOL\". format(x))\n",
        "\n",
        "posnegnol(-90)"
      ],
      "execution_count": 109,
      "outputs": [
        {
          "output_type": "stream",
          "text": [
            "Bilangan -90 merupakan bilangan negatif\n"
          ],
          "name": "stdout"
        }
      ]
    },
    {
      "cell_type": "markdown",
      "metadata": {
        "id": "73ZLPnpodxNM"
      },
      "source": [
        "## Fungsi \"Mahal_Diskon\""
      ]
    },
    {
      "cell_type": "markdown",
      "metadata": {
        "id": "PGi_lGwid6SB"
      },
      "source": [
        "Buatlah sebuah fungsi \"Mahal_Diskon\" dengan ketentuan:\n",
        "1. Input berupa data harga produk dengan tipe data numerik **Tunggal**\n",
        "2. Kategori Input adalah \"Murah\" dan \"Mahal\", kemudian diskon ada 3 kategori \"10 %\", \"20 %\", dan \"\"40%\"\n",
        "3. Output Pertama sebuah teks/string yang menyatakan \"Mahal\" atau \"Murah\" dan Keterangan \"Kamu Dapat Diskon ...\"\n",
        "4. Output Kedua adalah harga yang perlu dibayarkan"
      ]
    },
    {
      "cell_type": "code",
      "metadata": {
        "colab": {
          "base_uri": "https://localhost:8080/"
        },
        "id": "c8FqUWCzZONw",
        "outputId": "b9eb57af-e5b3-4b4c-bca4-91a82e429f1b"
      },
      "source": [
        "def Mahal_Diskon(total):\n",
        "  print(\"\\t\\t\\tTOKO ELEKTRONIK\")\n",
        "  print(\"\\t\\t\\tDiskon Up to 40%\")\n",
        "  print()\n",
        "  print(\"Diskon :\")\n",
        "  print(\"1. Setiap Pembelian diatas >Rp15.000.000 akan mendapatkan diskon sebesar 40%\")\n",
        "  print(\"2. Setiap Pembelian Rp15.000.000 - Rp8.000.000 akan mendapatkan diskon sebesar 20%\")\n",
        "  print(\"3. Setiap Pembelian dibawah <Rp8.000.000 akan mendapatkan diskon sebesar 10%\")\n",
        "  print()\n",
        "  print()\n",
        "  \n",
        "  #Saya mendefinisikan kondisi mahal yaitu >Rp10.000.000 dan \n",
        "  #murah ketika <=10.000.000\n",
        "\n",
        "  print(\"Total belanjaan Anda kali ini sebesar Rp{}\". format(total))\n",
        "  if total > 10000000:\n",
        "    if total > 15000000 :\n",
        "      print(\"Mahal sekali belanjaan Anda\")\n",
        "      diskon = total*40/100\n",
        "      print(\"Tenang, kita ada diskon 40% buat kamu yaitu sebesar Rp{}\". format(diskon))\n",
        "      total_sesudah_diskon =  total - diskon\n",
        "      print(\"Jadi, kamu hanya perlu membayar senilai Rp{}\". format(total_sesudah_diskon))\n",
        "    else:\n",
        "      print(\"Mahal sekali belanjaan Anda\")\n",
        "      diskon = total*20/100\n",
        "      print(\"Tenang, kita ada diskon 20% buat kamu yaitu sebesar Rp{}\". format(diskon))\n",
        "      total_sesudah_diskon =  total - diskon\n",
        "      print(\"Jadi, kamu hanya perlu membayar senilai Rp{}\". format(total_sesudah_diskon))\n",
        "  else :\n",
        "    if total < 8000000:\n",
        "      print(\"Belanjaan Anda kali ini cukup murah\")\n",
        "      diskon = total*10/100\n",
        "      print(\"Tetapi walaupun tergolong murah. Kamu juga akan mendapatkan diskon 10% yaitu sebesar Rp{}\". format(diskon))\n",
        "      total_sesudah_diskon =  total - diskon\n",
        "      print(\"Jadi, kamu hanya perlu membayar senilai Rp{}\". format(total_sesudah_diskon)) \n",
        "    else :\n",
        "      print(\"Belanjaan Anda kali ini cukup murah\")\n",
        "      diskon = total*20/100\n",
        "      print(\"Tetapi walaupun tergolong murah. Kamu juga akan mendapatkan diskon 20% yaitu sebesar Rp{}\". format(diskon))\n",
        "      total_sesudah_diskon =  total - diskon\n",
        "      print(\"Jadi, kamu hanya perlu membayar senilai Rp{}\". format(total_sesudah_diskon)) \n",
        "\n",
        "Mahal_Diskon(9000000)"
      ],
      "execution_count": 110,
      "outputs": [
        {
          "output_type": "stream",
          "text": [
            "\t\t\tTOKO ELEKTRONIK\n",
            "\t\t\tDiskon Up to 40%\n",
            "\n",
            "Diskon :\n",
            "1. Setiap Pembelian diatas >Rp15.000.000 akan mendapatkan diskon sebesar 40%\n",
            "2. Setiap Pembelian Rp15.000.000 - Rp8.000.000 akan mendapatkan diskon sebesar 20%\n",
            "3. Setiap Pembelian dibawah <Rp8.000.000 akan mendapatkan diskon sebesar 10%\n",
            "\n",
            "\n",
            "Total belanjaan Anda kali ini sebesar Rp9000000\n",
            "Belanjaan Anda kali ini cukup murah\n",
            "Tetapi walaupun tergolong murah. Kamu juga akan mendapatkan diskon 20% yaitu sebesar Rp1800000.0\n",
            "Jadi, kamu hanya perlu membayar senilai Rp7200000.0\n"
          ],
          "name": "stdout"
        }
      ]
    },
    {
      "cell_type": "markdown",
      "metadata": {
        "id": "76SZWYMpek4s"
      },
      "source": [
        "# MINI PROJEK [B]"
      ]
    },
    {
      "cell_type": "markdown",
      "metadata": {
        "id": "i3ZKro4Aer0S"
      },
      "source": [
        "Buatlah sebuah fungsi dengan input adalah nilai awal a dan b:\n",
        "\n",
        "Input: a = 1, b=2\n",
        "\n",
        "a & b: Bilangan antara -9999:9999\n",
        "\n",
        "Output: DataFrame dengan tampilan sebagai berikut:\n",
        "\n",
        "|Bilangan| Genap/Ganjil | Pos/Neg/Nol | Satuan/Ratusan/Ribuan |\n",
        "|----|---|---| ----|\n",
        "|1   |Ganjil|Positif| Satuan|\n",
        "|-11  |Ganjil|Negatif| Puluhan |\n",
        "|112 |Genap|Positif| Ratusan|\n",
        "\n",
        "\n",
        "\n"
      ]
    },
    {
      "cell_type": "code",
      "metadata": {
        "id": "wp7WPjk813jo"
      },
      "source": [
        "import pandas as pd\n",
        "import numpy as np"
      ],
      "execution_count": 111,
      "outputs": []
    },
    {
      "cell_type": "code",
      "metadata": {
        "id": "7AEEVilPZ4Em",
        "colab": {
          "base_uri": "https://localhost:8080/",
          "height": 419
        },
        "outputId": "8ea30fb1-b5eb-486c-c889-92fbb062b88e"
      },
      "source": [
        "def projekB(a,b):\n",
        "  if a not in range(-9999,9999,1):\n",
        "    print(\"nilai a tidak masuk kedalam interval, masukkan nilai a lainnya\")\n",
        "  elif b not in range(-9999,9999,1):\n",
        "    print(\"Nilai b tidak masuk kedalam interval, masukkan nilai b lainnya\")\n",
        "  else :\n",
        "    Bilangan = list(range(a,b))\n",
        "\n",
        "    #genap ganjil\n",
        "    genap_ganjil =[]\n",
        "    for i in Bilangan :\n",
        "      if i % 2 == 0:\n",
        "        genap_ganjil.append(\"Genap\")\n",
        "      else :\n",
        "        genap_ganjil.append(\"Ganjil\")\n",
        "\n",
        "    #pos/neg/nol\n",
        "    pnn = []\n",
        "    for i in Bilangan:\n",
        "      if i > 0 :\n",
        "        pnn.append(\"Positif\")\n",
        "      elif i < 0 :\n",
        "        pnn.append(\"Negatif\")\n",
        "      else :\n",
        "        pnn.append(\"Nol\")\n",
        "\n",
        "    #satuan/puluhan/ratusan/ribuan\n",
        "    sprr = []\n",
        "    for i in Bilangan :\n",
        "      if i<10 and i>-10 :\n",
        "        sprr.append(\"Satuan\")\n",
        "      elif i<100 and i>-100:\n",
        "        sprr.append(\"Puluhan\") \n",
        "      elif i<1000 and i>-1000:\n",
        "        sprr.append(\"Ratusan\")\n",
        "      elif i<10000 and i>-10000:\n",
        "        sprr.append(\"Ribuan\")\n",
        "\n",
        "    data = pd.DataFrame({'Bilangan' : Bilangan, 'Genap/Ganjil' : genap_ganjil,\n",
        "                      'Positif/Negatif/Nol' : pnn, 'Satuan/Puluhan/Ratusan/Ribuan' : sprr})\n",
        "    return data\n",
        "projekB(-2,102)"
      ],
      "execution_count": 112,
      "outputs": [
        {
          "output_type": "execute_result",
          "data": {
            "text/html": [
              "<div>\n",
              "<style scoped>\n",
              "    .dataframe tbody tr th:only-of-type {\n",
              "        vertical-align: middle;\n",
              "    }\n",
              "\n",
              "    .dataframe tbody tr th {\n",
              "        vertical-align: top;\n",
              "    }\n",
              "\n",
              "    .dataframe thead th {\n",
              "        text-align: right;\n",
              "    }\n",
              "</style>\n",
              "<table border=\"1\" class=\"dataframe\">\n",
              "  <thead>\n",
              "    <tr style=\"text-align: right;\">\n",
              "      <th></th>\n",
              "      <th>Bilangan</th>\n",
              "      <th>Genap/Ganjil</th>\n",
              "      <th>Positif/Negatif/Nol</th>\n",
              "      <th>Satuan/Puluhan/Ratusan/Ribuan</th>\n",
              "    </tr>\n",
              "  </thead>\n",
              "  <tbody>\n",
              "    <tr>\n",
              "      <th>0</th>\n",
              "      <td>-2</td>\n",
              "      <td>Genap</td>\n",
              "      <td>Negatif</td>\n",
              "      <td>Satuan</td>\n",
              "    </tr>\n",
              "    <tr>\n",
              "      <th>1</th>\n",
              "      <td>-1</td>\n",
              "      <td>Ganjil</td>\n",
              "      <td>Negatif</td>\n",
              "      <td>Satuan</td>\n",
              "    </tr>\n",
              "    <tr>\n",
              "      <th>2</th>\n",
              "      <td>0</td>\n",
              "      <td>Genap</td>\n",
              "      <td>Nol</td>\n",
              "      <td>Satuan</td>\n",
              "    </tr>\n",
              "    <tr>\n",
              "      <th>3</th>\n",
              "      <td>1</td>\n",
              "      <td>Ganjil</td>\n",
              "      <td>Positif</td>\n",
              "      <td>Satuan</td>\n",
              "    </tr>\n",
              "    <tr>\n",
              "      <th>4</th>\n",
              "      <td>2</td>\n",
              "      <td>Genap</td>\n",
              "      <td>Positif</td>\n",
              "      <td>Satuan</td>\n",
              "    </tr>\n",
              "    <tr>\n",
              "      <th>...</th>\n",
              "      <td>...</td>\n",
              "      <td>...</td>\n",
              "      <td>...</td>\n",
              "      <td>...</td>\n",
              "    </tr>\n",
              "    <tr>\n",
              "      <th>99</th>\n",
              "      <td>97</td>\n",
              "      <td>Ganjil</td>\n",
              "      <td>Positif</td>\n",
              "      <td>Puluhan</td>\n",
              "    </tr>\n",
              "    <tr>\n",
              "      <th>100</th>\n",
              "      <td>98</td>\n",
              "      <td>Genap</td>\n",
              "      <td>Positif</td>\n",
              "      <td>Puluhan</td>\n",
              "    </tr>\n",
              "    <tr>\n",
              "      <th>101</th>\n",
              "      <td>99</td>\n",
              "      <td>Ganjil</td>\n",
              "      <td>Positif</td>\n",
              "      <td>Puluhan</td>\n",
              "    </tr>\n",
              "    <tr>\n",
              "      <th>102</th>\n",
              "      <td>100</td>\n",
              "      <td>Genap</td>\n",
              "      <td>Positif</td>\n",
              "      <td>Ratusan</td>\n",
              "    </tr>\n",
              "    <tr>\n",
              "      <th>103</th>\n",
              "      <td>101</td>\n",
              "      <td>Ganjil</td>\n",
              "      <td>Positif</td>\n",
              "      <td>Ratusan</td>\n",
              "    </tr>\n",
              "  </tbody>\n",
              "</table>\n",
              "<p>104 rows × 4 columns</p>\n",
              "</div>"
            ],
            "text/plain": [
              "     Bilangan Genap/Ganjil Positif/Negatif/Nol Satuan/Puluhan/Ratusan/Ribuan\n",
              "0          -2        Genap             Negatif                        Satuan\n",
              "1          -1       Ganjil             Negatif                        Satuan\n",
              "2           0        Genap                 Nol                        Satuan\n",
              "3           1       Ganjil             Positif                        Satuan\n",
              "4           2        Genap             Positif                        Satuan\n",
              "..        ...          ...                 ...                           ...\n",
              "99         97       Ganjil             Positif                       Puluhan\n",
              "100        98        Genap             Positif                       Puluhan\n",
              "101        99       Ganjil             Positif                       Puluhan\n",
              "102       100        Genap             Positif                       Ratusan\n",
              "103       101       Ganjil             Positif                       Ratusan\n",
              "\n",
              "[104 rows x 4 columns]"
            ]
          },
          "metadata": {
            "tags": []
          },
          "execution_count": 112
        }
      ]
    },
    {
      "cell_type": "markdown",
      "metadata": {
        "id": "RNnMwYifqBHd"
      },
      "source": [
        "#MINI PROJEK [C]"
      ]
    },
    {
      "cell_type": "markdown",
      "metadata": {
        "id": "P-lOSWqfL2VN"
      },
      "source": [
        "Buatlah sebuah fungsi untuk membuat suatu dataframe dengan input:\n",
        "1. Nilai Minimal\n",
        "2. Nilai Maksimal\n",
        "3. Rentang Kelas\n",
        "4. Jumlah Kelas\n",
        "\n",
        "Output dari fungsi tersebut adalah dataframe dengan kolom-kolom:\n",
        "Nama Kelas, Batas Bawah, Batas Atas, Nilai Tengah seperti contoh berikut:\n",
        "Input:\n",
        "1. Nilai Minimal  : 0.6000\n",
        "2. Nilai Maksimal : 2.2665\n",
        "3. Rentang Kelas  : 0.3333\n",
        "4. Jumlah Kelas   : 6 \n",
        "\n"
      ]
    },
    {
      "cell_type": "code",
      "metadata": {
        "colab": {
          "base_uri": "https://localhost:8080/",
          "height": 235
        },
        "id": "Uu0cMhQxMVhl",
        "outputId": "99c31642-5b3d-4c54-a133-dd3bc4e749bd"
      },
      "source": [
        "def projekC(a,b,c,d) :\n",
        "  #a = nilai min; b = nilai max; c = rentang kelas; d = jumlah kelas\n",
        "\n",
        "  #nama kelas\n",
        "  Nama_Kelas = []\n",
        "  for i in range(d):\n",
        "    u = (\"U{}\". format(i+1))\n",
        "    Nama_Kelas.append(u)\n",
        "\n",
        "  #batas bawah batas atas\n",
        "  A = [a]\n",
        "  B = [a+c]\n",
        "  for i in range(d-1):\n",
        "    data1 = a + c\n",
        "    data2 = data1 + c\n",
        "    A.append(round(data1,6))\n",
        "    B.append(round(data2,6))\n",
        "    a = data1\n",
        "\n",
        "  #nilai tengah\n",
        "  nilai_tengah = []\n",
        "  for i in range(d) :\n",
        "    nt = (A[i] + B[i])/2\n",
        "    nilai_tengah.append(round(nt,6))\n",
        "  \n",
        "  data = pd.DataFrame({'Nama Kelas' : Nama_Kelas, 'Batas Bawah' : A, 'Batas Atas' : B, 'Nilai Tengah' : nilai_tengah})\n",
        "  return data\n",
        "\n",
        "projekC(0.60000,2.26650, 0.33333, 6)"
      ],
      "execution_count": 178,
      "outputs": [
        {
          "output_type": "execute_result",
          "data": {
            "text/html": [
              "<div>\n",
              "<style scoped>\n",
              "    .dataframe tbody tr th:only-of-type {\n",
              "        vertical-align: middle;\n",
              "    }\n",
              "\n",
              "    .dataframe tbody tr th {\n",
              "        vertical-align: top;\n",
              "    }\n",
              "\n",
              "    .dataframe thead th {\n",
              "        text-align: right;\n",
              "    }\n",
              "</style>\n",
              "<table border=\"1\" class=\"dataframe\">\n",
              "  <thead>\n",
              "    <tr style=\"text-align: right;\">\n",
              "      <th></th>\n",
              "      <th>Nama Kelas</th>\n",
              "      <th>Batas Bawah</th>\n",
              "      <th>Batas Atas</th>\n",
              "      <th>Nilai Tengah</th>\n",
              "    </tr>\n",
              "  </thead>\n",
              "  <tbody>\n",
              "    <tr>\n",
              "      <th>0</th>\n",
              "      <td>U1</td>\n",
              "      <td>0.60000</td>\n",
              "      <td>0.93333</td>\n",
              "      <td>0.766665</td>\n",
              "    </tr>\n",
              "    <tr>\n",
              "      <th>1</th>\n",
              "      <td>U2</td>\n",
              "      <td>0.93333</td>\n",
              "      <td>1.26666</td>\n",
              "      <td>1.099995</td>\n",
              "    </tr>\n",
              "    <tr>\n",
              "      <th>2</th>\n",
              "      <td>U3</td>\n",
              "      <td>1.26666</td>\n",
              "      <td>1.59999</td>\n",
              "      <td>1.433325</td>\n",
              "    </tr>\n",
              "    <tr>\n",
              "      <th>3</th>\n",
              "      <td>U4</td>\n",
              "      <td>1.59999</td>\n",
              "      <td>1.93332</td>\n",
              "      <td>1.766655</td>\n",
              "    </tr>\n",
              "    <tr>\n",
              "      <th>4</th>\n",
              "      <td>U5</td>\n",
              "      <td>1.93332</td>\n",
              "      <td>2.26665</td>\n",
              "      <td>2.099985</td>\n",
              "    </tr>\n",
              "    <tr>\n",
              "      <th>5</th>\n",
              "      <td>U6</td>\n",
              "      <td>2.26665</td>\n",
              "      <td>2.59998</td>\n",
              "      <td>2.433315</td>\n",
              "    </tr>\n",
              "  </tbody>\n",
              "</table>\n",
              "</div>"
            ],
            "text/plain": [
              "  Nama Kelas  Batas Bawah  Batas Atas  Nilai Tengah\n",
              "0         U1      0.60000     0.93333      0.766665\n",
              "1         U2      0.93333     1.26666      1.099995\n",
              "2         U3      1.26666     1.59999      1.433325\n",
              "3         U4      1.59999     1.93332      1.766655\n",
              "4         U5      1.93332     2.26665      2.099985\n",
              "5         U6      2.26665     2.59998      2.433315"
            ]
          },
          "metadata": {
            "tags": []
          },
          "execution_count": 178
        }
      ]
    }
  ]
}