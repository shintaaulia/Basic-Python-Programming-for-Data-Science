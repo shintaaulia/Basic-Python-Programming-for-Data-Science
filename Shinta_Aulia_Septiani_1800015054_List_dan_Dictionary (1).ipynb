{
  "nbformat": 4,
  "nbformat_minor": 0,
  "metadata": {
    "colab": {
      "name": "Shinta Aulia Septiani_1800015054_List_dan_Dictionary.ipynb",
      "provenance": [],
      "collapsed_sections": []
    },
    "kernelspec": {
      "name": "python3",
      "display_name": "Python 3"
    },
    "language_info": {
      "name": "python"
    }
  },
  "cells": [
    {
      "cell_type": "markdown",
      "metadata": {
        "id": "gyh8ceuhR7tg"
      },
      "source": [
        "1. Buatlah sebuah list dengan elemen bilangan kelipatan 5 dengan panjang elemen sejumlah 100"
      ]
    },
    {
      "cell_type": "code",
      "metadata": {
        "colab": {
          "base_uri": "https://localhost:8080/"
        },
        "id": "thmVEw5nR6ey",
        "outputId": "7ef6528c-e6f5-479f-85b7-5c130b2559c4"
      },
      "source": [
        "#Tuliskan kodemu di bawah ini:\n",
        "A = list(range(5,505,5))\n",
        "print('A =', A)\n",
        "print('Banyak elemen =', len(A))"
      ],
      "execution_count": null,
      "outputs": [
        {
          "output_type": "stream",
          "text": [
            "A = [5, 10, 15, 20, 25, 30, 35, 40, 45, 50, 55, 60, 65, 70, 75, 80, 85, 90, 95, 100, 105, 110, 115, 120, 125, 130, 135, 140, 145, 150, 155, 160, 165, 170, 175, 180, 185, 190, 195, 200, 205, 210, 215, 220, 225, 230, 235, 240, 245, 250, 255, 260, 265, 270, 275, 280, 285, 290, 295, 300, 305, 310, 315, 320, 325, 330, 335, 340, 345, 350, 355, 360, 365, 370, 375, 380, 385, 390, 395, 400, 405, 410, 415, 420, 425, 430, 435, 440, 445, 450, 455, 460, 465, 470, 475, 480, 485, 490, 495, 500]\n",
            "Banyak elemen = 100\n"
          ],
          "name": "stdout"
        }
      ]
    },
    {
      "cell_type": "markdown",
      "metadata": {
        "id": "LK7_7EEKSCx_"
      },
      "source": [
        "2. Buatlah sebuah dictionary dengan jumlah elemen 100 dan lakukanlah beberapa modifikasi(minimal 3) di dalamnya."
      ]
    },
    {
      "cell_type": "code",
      "metadata": {
        "colab": {
          "base_uri": "https://localhost:8080/"
        },
        "id": "x5iw1Rknqyh9",
        "outputId": "39352401-0d04-48df-e64d-e8c7b0255b68"
      },
      "source": [
        "# Tuliskan kodemu di bawah ini:\n",
        "dict= {'A':1, 'B':2, 'C':3, 'D':4, 'E':5, 'F':6,'G':7, 'H':8, 'I':9, 'J':10, 'AA':11, 'BB':12, 'CC':13, 'DD':14, 'EE':15, 'FF':16,'GG':17, 'HH':18, 'II':19, 'JJ':20, 'AAA':21, 'BBB':22, 'CCC':23, 'DDD':24, 'EEE':25, 'FFF':26,'GGG':27, 'HHH':28, 'III':29, 'JJJ':30, 'AAAA':31, 'BBBB':32, 'CCCC':33, 'DDDD':34, 'EEEE':35, 'FFFF':36,'GGGG':37, 'HHHH':38, 'IIII':39, 'JJJJ':40, 'AAAAA':41, 'BBBBB':42, 'CCCCC':43, 'DDDDD':44, 'EEEEE':45, 'FFFFF':46,'GGGGG':47, 'HHHHH':48, 'IIIII':49, 'JJJJJ':50, 'AAAAAA':51, 'BBBBBB':52, 'CCCCCC':53, 'DDDDDD':54, 'EEEEEE':55, 'FFFFFF':56,'GGGGGG':57, 'HHHHHH':58, 'IIIIII':59, 'JJJJJJ':60, 'AAAAAAA':61, 'BBBBBBB':62, 'CCCCCCC':63, 'DDDDDDD':64, 'EEEEEEE':65, 'FFFFFFF':66,'GGGGGGG':67, 'HHHHHHH':68, 'IIIIIII':69, 'JJJJJJJ':70, 'AAAAAAA':61, 'BBBBBBB':62, 'CCCCCCC':63, 'DDDDDDD':64, 'EEEEEEE':65, 'FFFFFFF':66,'GGGGGGG':67, 'HHHHHHH':68, 'IIIIIII':69, 'JJJJJJJ':70, 'AAAAAAAA':71, 'BBBBBBBB':72, 'CCCCCCCC':73, 'DDDDDDDD':74, 'EEEEEEEE':75, 'FFFFFFFF':76,'GGGGGGGG':77, 'HHHHHHHH':78, 'IIIIIIII':79, 'JJJJJJJJ':80, 'AAAAAAAAA':81, 'BBBBBBBBB':82, 'CCCCCCCCC':83,'DDDDDDDDD':84, 'EEEEEEEEE':85,'FFFFFFFFF':86,'GGGGGGGGG':87, 'HHHHHHHHH':88, 'IIIIIIIII':89, 'JJJJJJJJJ':90,'AAAAAAAAAA':91, 'BBBBBBBBBB':92, 'CCCCCCCCCC':93, 'DDDDDDDDDD':94, 'EEEEEEEEEE':95, 'FFFFFFFFFF':96, 'GGGGGGGGGG':97, 'HHHHHHHHHH':98, 'IIIIIIIIII':99, 'JJJJJJJJJJ':100 }\n",
        "print('dict =', dict)\n",
        "print('Banyak elemen =', len(dict))\n",
        "\n",
        "# Modifikasi 1  \n",
        "# Menambah item baru pada thisdict\n",
        "dict.update({\"Z\" : 101}) \n",
        "print('dict = ', dict)\n",
        "print('Banyak elemen pada modifikasi 1 =', len(dict))\n",
        "\n",
        "# Modifikasi 2\n",
        "# Menghapus item\n",
        "del dict[\"A\"]\n",
        "print('dict = ', dict)\n",
        "print('Banyak elemen pada modifikasi 2 =', len(dict))\n",
        "\n",
        "# Modifikasi 3\n",
        "# Menyalin dictionary\n",
        "mydict = dict.copy()\n",
        "print('mydict = ', mydict)\n",
        "\n",
        "# Modifikasi 4\n",
        "if \"AAAAAA\" in mydict :\n",
        "  print(\"Yes, 'AAAAAA' adalah salah satu dari kunci dalam mydict\")\n",
        "\n",
        "# Modifikasi 5\n",
        "if \"ABC\" in mydict :\n",
        "  print(\"Ya, 'ABC' ada didalam dict\")\n",
        "if \"ABC\" not in mydict :\n",
        "  print(\"Maaf,'ABC' tidak ada didalam mydict\")"
      ],
      "execution_count": 33,
      "outputs": [
        {
          "output_type": "stream",
          "text": [
            "dict = {'A': 1, 'B': 2, 'C': 3, 'D': 4, 'E': 5, 'F': 6, 'G': 7, 'H': 8, 'I': 9, 'J': 10, 'AA': 11, 'BB': 12, 'CC': 13, 'DD': 14, 'EE': 15, 'FF': 16, 'GG': 17, 'HH': 18, 'II': 19, 'JJ': 20, 'AAA': 21, 'BBB': 22, 'CCC': 23, 'DDD': 24, 'EEE': 25, 'FFF': 26, 'GGG': 27, 'HHH': 28, 'III': 29, 'JJJ': 30, 'AAAA': 31, 'BBBB': 32, 'CCCC': 33, 'DDDD': 34, 'EEEE': 35, 'FFFF': 36, 'GGGG': 37, 'HHHH': 38, 'IIII': 39, 'JJJJ': 40, 'AAAAA': 41, 'BBBBB': 42, 'CCCCC': 43, 'DDDDD': 44, 'EEEEE': 45, 'FFFFF': 46, 'GGGGG': 47, 'HHHHH': 48, 'IIIII': 49, 'JJJJJ': 50, 'AAAAAA': 51, 'BBBBBB': 52, 'CCCCCC': 53, 'DDDDDD': 54, 'EEEEEE': 55, 'FFFFFF': 56, 'GGGGGG': 57, 'HHHHHH': 58, 'IIIIII': 59, 'JJJJJJ': 60, 'AAAAAAA': 61, 'BBBBBBB': 62, 'CCCCCCC': 63, 'DDDDDDD': 64, 'EEEEEEE': 65, 'FFFFFFF': 66, 'GGGGGGG': 67, 'HHHHHHH': 68, 'IIIIIII': 69, 'JJJJJJJ': 70, 'AAAAAAAA': 71, 'BBBBBBBB': 72, 'CCCCCCCC': 73, 'DDDDDDDD': 74, 'EEEEEEEE': 75, 'FFFFFFFF': 76, 'GGGGGGGG': 77, 'HHHHHHHH': 78, 'IIIIIIII': 79, 'JJJJJJJJ': 80, 'AAAAAAAAA': 81, 'BBBBBBBBB': 82, 'CCCCCCCCC': 83, 'DDDDDDDDD': 84, 'EEEEEEEEE': 85, 'FFFFFFFFF': 86, 'GGGGGGGGG': 87, 'HHHHHHHHH': 88, 'IIIIIIIII': 89, 'JJJJJJJJJ': 90, 'AAAAAAAAAA': 91, 'BBBBBBBBBB': 92, 'CCCCCCCCCC': 93, 'DDDDDDDDDD': 94, 'EEEEEEEEEE': 95, 'FFFFFFFFFF': 96, 'GGGGGGGGGG': 97, 'HHHHHHHHHH': 98, 'IIIIIIIIII': 99, 'JJJJJJJJJJ': 100}\n",
            "Banyak elemen = 100\n",
            "dict =  {'A': 1, 'B': 2, 'C': 3, 'D': 4, 'E': 5, 'F': 6, 'G': 7, 'H': 8, 'I': 9, 'J': 10, 'AA': 11, 'BB': 12, 'CC': 13, 'DD': 14, 'EE': 15, 'FF': 16, 'GG': 17, 'HH': 18, 'II': 19, 'JJ': 20, 'AAA': 21, 'BBB': 22, 'CCC': 23, 'DDD': 24, 'EEE': 25, 'FFF': 26, 'GGG': 27, 'HHH': 28, 'III': 29, 'JJJ': 30, 'AAAA': 31, 'BBBB': 32, 'CCCC': 33, 'DDDD': 34, 'EEEE': 35, 'FFFF': 36, 'GGGG': 37, 'HHHH': 38, 'IIII': 39, 'JJJJ': 40, 'AAAAA': 41, 'BBBBB': 42, 'CCCCC': 43, 'DDDDD': 44, 'EEEEE': 45, 'FFFFF': 46, 'GGGGG': 47, 'HHHHH': 48, 'IIIII': 49, 'JJJJJ': 50, 'AAAAAA': 51, 'BBBBBB': 52, 'CCCCCC': 53, 'DDDDDD': 54, 'EEEEEE': 55, 'FFFFFF': 56, 'GGGGGG': 57, 'HHHHHH': 58, 'IIIIII': 59, 'JJJJJJ': 60, 'AAAAAAA': 61, 'BBBBBBB': 62, 'CCCCCCC': 63, 'DDDDDDD': 64, 'EEEEEEE': 65, 'FFFFFFF': 66, 'GGGGGGG': 67, 'HHHHHHH': 68, 'IIIIIII': 69, 'JJJJJJJ': 70, 'AAAAAAAA': 71, 'BBBBBBBB': 72, 'CCCCCCCC': 73, 'DDDDDDDD': 74, 'EEEEEEEE': 75, 'FFFFFFFF': 76, 'GGGGGGGG': 77, 'HHHHHHHH': 78, 'IIIIIIII': 79, 'JJJJJJJJ': 80, 'AAAAAAAAA': 81, 'BBBBBBBBB': 82, 'CCCCCCCCC': 83, 'DDDDDDDDD': 84, 'EEEEEEEEE': 85, 'FFFFFFFFF': 86, 'GGGGGGGGG': 87, 'HHHHHHHHH': 88, 'IIIIIIIII': 89, 'JJJJJJJJJ': 90, 'AAAAAAAAAA': 91, 'BBBBBBBBBB': 92, 'CCCCCCCCCC': 93, 'DDDDDDDDDD': 94, 'EEEEEEEEEE': 95, 'FFFFFFFFFF': 96, 'GGGGGGGGGG': 97, 'HHHHHHHHHH': 98, 'IIIIIIIIII': 99, 'JJJJJJJJJJ': 100, 'Z': 101}\n",
            "Banyak elemen pada modifikasi 1 = 101\n",
            "dict =  {'B': 2, 'C': 3, 'D': 4, 'E': 5, 'F': 6, 'G': 7, 'H': 8, 'I': 9, 'J': 10, 'AA': 11, 'BB': 12, 'CC': 13, 'DD': 14, 'EE': 15, 'FF': 16, 'GG': 17, 'HH': 18, 'II': 19, 'JJ': 20, 'AAA': 21, 'BBB': 22, 'CCC': 23, 'DDD': 24, 'EEE': 25, 'FFF': 26, 'GGG': 27, 'HHH': 28, 'III': 29, 'JJJ': 30, 'AAAA': 31, 'BBBB': 32, 'CCCC': 33, 'DDDD': 34, 'EEEE': 35, 'FFFF': 36, 'GGGG': 37, 'HHHH': 38, 'IIII': 39, 'JJJJ': 40, 'AAAAA': 41, 'BBBBB': 42, 'CCCCC': 43, 'DDDDD': 44, 'EEEEE': 45, 'FFFFF': 46, 'GGGGG': 47, 'HHHHH': 48, 'IIIII': 49, 'JJJJJ': 50, 'AAAAAA': 51, 'BBBBBB': 52, 'CCCCCC': 53, 'DDDDDD': 54, 'EEEEEE': 55, 'FFFFFF': 56, 'GGGGGG': 57, 'HHHHHH': 58, 'IIIIII': 59, 'JJJJJJ': 60, 'AAAAAAA': 61, 'BBBBBBB': 62, 'CCCCCCC': 63, 'DDDDDDD': 64, 'EEEEEEE': 65, 'FFFFFFF': 66, 'GGGGGGG': 67, 'HHHHHHH': 68, 'IIIIIII': 69, 'JJJJJJJ': 70, 'AAAAAAAA': 71, 'BBBBBBBB': 72, 'CCCCCCCC': 73, 'DDDDDDDD': 74, 'EEEEEEEE': 75, 'FFFFFFFF': 76, 'GGGGGGGG': 77, 'HHHHHHHH': 78, 'IIIIIIII': 79, 'JJJJJJJJ': 80, 'AAAAAAAAA': 81, 'BBBBBBBBB': 82, 'CCCCCCCCC': 83, 'DDDDDDDDD': 84, 'EEEEEEEEE': 85, 'FFFFFFFFF': 86, 'GGGGGGGGG': 87, 'HHHHHHHHH': 88, 'IIIIIIIII': 89, 'JJJJJJJJJ': 90, 'AAAAAAAAAA': 91, 'BBBBBBBBBB': 92, 'CCCCCCCCCC': 93, 'DDDDDDDDDD': 94, 'EEEEEEEEEE': 95, 'FFFFFFFFFF': 96, 'GGGGGGGGGG': 97, 'HHHHHHHHHH': 98, 'IIIIIIIIII': 99, 'JJJJJJJJJJ': 100, 'Z': 101}\n",
            "Banyak elemen pada modifikasi 2 = 100\n",
            "mydict =  {'B': 2, 'C': 3, 'D': 4, 'E': 5, 'F': 6, 'G': 7, 'H': 8, 'I': 9, 'J': 10, 'AA': 11, 'BB': 12, 'CC': 13, 'DD': 14, 'EE': 15, 'FF': 16, 'GG': 17, 'HH': 18, 'II': 19, 'JJ': 20, 'AAA': 21, 'BBB': 22, 'CCC': 23, 'DDD': 24, 'EEE': 25, 'FFF': 26, 'GGG': 27, 'HHH': 28, 'III': 29, 'JJJ': 30, 'AAAA': 31, 'BBBB': 32, 'CCCC': 33, 'DDDD': 34, 'EEEE': 35, 'FFFF': 36, 'GGGG': 37, 'HHHH': 38, 'IIII': 39, 'JJJJ': 40, 'AAAAA': 41, 'BBBBB': 42, 'CCCCC': 43, 'DDDDD': 44, 'EEEEE': 45, 'FFFFF': 46, 'GGGGG': 47, 'HHHHH': 48, 'IIIII': 49, 'JJJJJ': 50, 'AAAAAA': 51, 'BBBBBB': 52, 'CCCCCC': 53, 'DDDDDD': 54, 'EEEEEE': 55, 'FFFFFF': 56, 'GGGGGG': 57, 'HHHHHH': 58, 'IIIIII': 59, 'JJJJJJ': 60, 'AAAAAAA': 61, 'BBBBBBB': 62, 'CCCCCCC': 63, 'DDDDDDD': 64, 'EEEEEEE': 65, 'FFFFFFF': 66, 'GGGGGGG': 67, 'HHHHHHH': 68, 'IIIIIII': 69, 'JJJJJJJ': 70, 'AAAAAAAA': 71, 'BBBBBBBB': 72, 'CCCCCCCC': 73, 'DDDDDDDD': 74, 'EEEEEEEE': 75, 'FFFFFFFF': 76, 'GGGGGGGG': 77, 'HHHHHHHH': 78, 'IIIIIIII': 79, 'JJJJJJJJ': 80, 'AAAAAAAAA': 81, 'BBBBBBBBB': 82, 'CCCCCCCCC': 83, 'DDDDDDDDD': 84, 'EEEEEEEEE': 85, 'FFFFFFFFF': 86, 'GGGGGGGGG': 87, 'HHHHHHHHH': 88, 'IIIIIIIII': 89, 'JJJJJJJJJ': 90, 'AAAAAAAAAA': 91, 'BBBBBBBBBB': 92, 'CCCCCCCCCC': 93, 'DDDDDDDDDD': 94, 'EEEEEEEEEE': 95, 'FFFFFFFFFF': 96, 'GGGGGGGGGG': 97, 'HHHHHHHHHH': 98, 'IIIIIIIIII': 99, 'JJJJJJJJJJ': 100, 'Z': 101}\n",
            "Yes, 'AAAAAA' adalah salah satu dari kunci dalam mydict\n",
            "Maaf,'ABC' tidak ada didalam mydict\n"
          ],
          "name": "stdout"
        }
      ]
    }
  ]
}