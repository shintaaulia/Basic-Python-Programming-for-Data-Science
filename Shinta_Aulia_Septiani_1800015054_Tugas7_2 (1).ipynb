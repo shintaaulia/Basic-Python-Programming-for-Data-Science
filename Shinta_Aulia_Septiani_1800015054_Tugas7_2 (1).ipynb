{
  "nbformat": 4,
  "nbformat_minor": 0,
  "metadata": {
    "colab": {
      "name": "Shinta Aulia Septiani_1800015054_Tugas7.2.ipynb",
      "provenance": [],
      "collapsed_sections": []
    },
    "kernelspec": {
      "name": "python3",
      "display_name": "Python 3"
    },
    "language_info": {
      "name": "python"
    }
  },
  "cells": [
    {
      "cell_type": "markdown",
      "metadata": {
        "id": "FJz981fhbJHC"
      },
      "source": [
        "#Shinta Aulia Septiani - 1800015054\n",
        "\n"
      ]
    },
    {
      "cell_type": "markdown",
      "metadata": {
        "id": "Ju4AlZf3F9Ev"
      },
      "source": [
        "**Deteksi outlier menggunakan metode ESD Test**"
      ]
    },
    {
      "cell_type": "code",
      "metadata": {
        "id": "GR4pCdE8Fd34"
      },
      "source": [
        "#import dulu\n",
        "import matplotlib.pyplot as plt\n",
        "import numpy as np\n",
        "import pandas as pd\n",
        "import scipy.stats as stats"
      ],
      "execution_count": 42,
      "outputs": []
    },
    {
      "cell_type": "code",
      "metadata": {
        "id": "RTyCrCeAKaU6"
      },
      "source": [
        "%matplotlib inline"
      ],
      "execution_count": 43,
      "outputs": []
    },
    {
      "cell_type": "code",
      "metadata": {
        "id": "q7e2L7wbKdtQ"
      },
      "source": [
        "#input x dan y\n",
        "y = np.random.random(200)\n",
        "x = np.arange(len(y))"
      ],
      "execution_count": 56,
      "outputs": []
    },
    {
      "cell_type": "code",
      "metadata": {
        "colab": {
          "base_uri": "https://localhost:8080/",
          "height": 282
        },
        "id": "d5ScnrzJKyZO",
        "outputId": "9f351e28-2ab2-47f4-8bc4-aa4bbd40ceb2"
      },
      "source": [
        "#buat scatterplot, untuk ngeliat penyebaran datanya\n",
        "plt.scatter(x,y)"
      ],
      "execution_count": 58,
      "outputs": [
        {
          "output_type": "execute_result",
          "data": {
            "text/plain": [
              "<matplotlib.collections.PathCollection at 0x7fa76009e990>"
            ]
          },
          "metadata": {
            "tags": []
          },
          "execution_count": 58
        },
        {
          "output_type": "display_data",
          "data": {
            "image/png": "[encoded data removed]",
            "text/plain": [
              "<Figure size 432x288 with 1 Axes>"
            ]
          },
          "metadata": {
            "tags": [],
            "needs_background": "light"
          }
        }
      ]
    },
    {
      "cell_type": "code",
      "metadata": {
        "id": "7hoBRct3MfvA"
      },
      "source": [
        "#coba masukin nilai-nilai yang outliner\n",
        "#dengan mengambil nilai y yang lebih dari 1\n",
        "#misalnya seperti ini\n",
        "y[4] = -6\n",
        "y[12] = 7\n",
        "y[64] = 3\n",
        "y[83] = 4\n",
        "y[95] = 8\n",
        "y[124] = 6\n",
        "y[148] = 5\n",
        "y[193] = 9"
      ],
      "execution_count": 92,
      "outputs": []
    },
    {
      "cell_type": "code",
      "metadata": {
        "colab": {
          "base_uri": "https://localhost:8080/",
          "height": 282
        },
        "id": "fr07kIxrMjiz",
        "outputId": "3dee4ce8-2a60-4fef-d1f8-8edca5e951ac"
      },
      "source": [
        "#buat scatterplot dulu\n",
        "#terlihat titik-titik yang outliner\n",
        "plt.scatter(x,y)"
      ],
      "execution_count": 93,
      "outputs": [
        {
          "output_type": "execute_result",
          "data": {
            "text/plain": [
              "<matplotlib.collections.PathCollection at 0x7fa75fffb490>"
            ]
          },
          "metadata": {
            "tags": []
          },
          "execution_count": 93
        },
        {
          "output_type": "display_data",
          "data": {
            "image/png": "[encoded data removed]",
            "text/plain": [
              "<Figure size 432x288 with 1 Axes>"
            ]
          },
          "metadata": {
            "tags": [],
            "needs_background": "light"
          }
        }
      ]
    },
    {
      "cell_type": "code",
      "metadata": {
        "id": "Z0rqjOLGMoE9"
      },
      "source": [
        "def G_Hitung(y):\n",
        "    # Simpangan y\n",
        "    std_dev = np.std(y)\n",
        "    # Rata-rata y\n",
        "    rata2_y = np.mean(y)\n",
        "    # Nilai Mutlak selisih data dengan rata-rata\n",
        "    selisih = abs(y-rata2_y)\n",
        "    # Nilai Maksimal Selisih\n",
        "    max_selisih=max(selisih)\n",
        "    # Indeks Nilai Maksimal Selisih\n",
        "    max_s_ind=np.argmax(selisih)\n",
        "    # Menghitung GCAL\n",
        "    Ghit=max_selisih/std_dev\n",
        "    return Ghit, max_s_ind\n"
      ],
      "execution_count": 95,
      "outputs": []
    },
    {
      "cell_type": "code",
      "metadata": {
        "id": "B8bQntrmM4so"
      },
      "source": [
        "def G_Tabel(ukuran, alpha):\n",
        "    t_dist = stats.t.ppf(1 - alpha / (2 * ukuran), ukuran - 2)\n",
        "    A = (ukuran - 1) * np.sqrt(np.square(t_dist))\n",
        "    B = np.sqrt(ukuran) * np.sqrt(ukuran - 2 + np.square(t_dist))\n",
        "    G_tabel = A / B\n",
        "    return G_tabel\n"
      ],
      "execution_count": 96,
      "outputs": []
    },
    {
      "cell_type": "code",
      "metadata": {
        "id": "SUvhybx4M6KP"
      },
      "source": [
        "def ESD(y, alpha, n):\n",
        "    outlier=[]\n",
        "    for i in range(n):\n",
        "        G_tabel=G_Tabel(len(y), alpha)\n",
        "        Ghit, max_s_ind = G_Hitung(y)\n",
        "        if Ghit>G_tabel:\n",
        "          print(\"Ghit: {}\".format(Ghit))\n",
        "          print(\"G_Tabel: {}\".format(G_tabel))\n",
        "          print('Di y = {} outlier.\\nKarena Ghit > G_tabel: {:.4f} > {:.4f} \\n'.format(y[max_s_ind], Ghit, G_tabel))\n",
        "          outlier.append(y[max_s_ind])\n",
        "          y = np.delete(y, max_s_ind)\n",
        "        else:\n",
        "          print(\"Ghit: {}\".format(Ghit))\n",
        "          print(\"G_Tabel: {}\".format(G_tabel))\n",
        "          print('Di y = {} tidak outlier.\\nKarena Ghit < G_tabel: {:.4f} < {:.4f} \\n'.format(y[max_s_ind], Ghit, G_tabel))\n",
        "    outlier=np.array(outlier)\n",
        "    return outlier\n"
      ],
      "execution_count": 97,
      "outputs": []
    },
    {
      "cell_type": "code",
      "metadata": {
        "colab": {
          "base_uri": "https://localhost:8080/"
        },
        "id": "_HoozuTLM7n_",
        "outputId": "150ef508-b9ab-4563-88c9-c8f264470193"
      },
      "source": [
        "#mencoba mencari dengan iterasi n = 10, dan alpha = 0.01\n",
        "\n",
        "ESD(y, 0.01, 10)"
      ],
      "execution_count": 98,
      "outputs": [
        {
          "output_type": "stream",
          "text": [
            "Ghit: 6.892856186788404\n",
            "G_Tabel: 3.977670232687403\n",
            "Di y = 9.0 outlier.\n",
            "Karena Ghit > G_tabel: 6.8929 > 3.9777 \n",
            "\n",
            "Ghit: 6.972585294223002\n",
            "G_Tabel: 3.9761787081025437\n",
            "Di y = 8.0 outlier.\n",
            "Karena Ghit > G_tabel: 6.9726 > 3.9762 \n",
            "\n",
            "Ghit: 7.184062339811007\n",
            "G_Tabel: 3.974678081786905\n",
            "Di y = -6.0 outlier.\n",
            "Karena Ghit > G_tabel: 7.1841 > 3.9747 \n",
            "\n",
            "Ghit: 8.038504172239536\n",
            "G_Tabel: 3.9731682483449284\n",
            "Di y = 7.0 outlier.\n",
            "Karena Ghit > G_tabel: 8.0385 > 3.9732 \n",
            "\n",
            "Ghit: 8.304261514048228\n",
            "G_Tabel: 3.971649100593429\n",
            "Di y = 6.0 outlier.\n",
            "Karena Ghit > G_tabel: 8.3043 > 3.9716 \n",
            "\n",
            "Ghit: 8.446223337063225\n",
            "G_Tabel: 3.9701205295169206\n",
            "Di y = 5.0 outlier.\n",
            "Karena Ghit > G_tabel: 8.4462 > 3.9701 \n",
            "\n",
            "Ghit: 8.254303675452961\n",
            "G_Tabel: 3.9685824242350325\n",
            "Di y = 4.0 outlier.\n",
            "Karena Ghit > G_tabel: 8.2543 > 3.9686 \n",
            "\n",
            "Ghit: 7.31862134197939\n",
            "G_Tabel: 3.9670346719505694\n",
            "Di y = 3.0 outlier.\n",
            "Karena Ghit > G_tabel: 7.3186 > 3.9670 \n",
            "\n",
            "Ghit: 1.7797906038475955\n",
            "G_Tabel: 3.965477157914488\n",
            "Di y = 0.01283947371186056 tidak outlier.\n",
            "Karena Ghit < G_tabel: 1.7798 < 3.9655 \n",
            "\n",
            "Ghit: 1.7797906038475955\n",
            "G_Tabel: 3.965477157914488\n",
            "Di y = 0.01283947371186056 tidak outlier.\n",
            "Karena Ghit < G_tabel: 1.7798 < 3.9655 \n",
            "\n"
          ],
          "name": "stdout"
        },
        {
          "output_type": "execute_result",
          "data": {
            "text/plain": [
              "array([ 9.,  8., -6.,  7.,  6.,  5.,  4.,  3.])"
            ]
          },
          "metadata": {
            "tags": []
          },
          "execution_count": 98
        }
      ]
    }
  ]
}