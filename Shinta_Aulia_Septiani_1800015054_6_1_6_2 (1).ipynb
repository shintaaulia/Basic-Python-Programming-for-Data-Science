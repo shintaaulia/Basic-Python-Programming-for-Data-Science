{
  "nbformat": 4,
  "nbformat_minor": 0,
  "metadata": {
    "colab": {
      "name": "Shinta Aulia Septiani_1800015054_6.1_6.2.ipynb",
      "provenance": [],
      "collapsed_sections": []
    },
    "kernelspec": {
      "name": "python3",
      "display_name": "Python 3"
    },
    "language_info": {
      "name": "python"
    }
  },
  "cells": [
    {
      "cell_type": "markdown",
      "metadata": {
        "id": "Adq5v2RNl3Dp"
      },
      "source": [
        "**SHINTA AULIA SEPTIANI - 1800015054**"
      ]
    },
    {
      "cell_type": "markdown",
      "metadata": {
        "id": "L1FCIyHAlVzo"
      },
      "source": [
        "##**MATRIKS DAN PYTHON NUMPY**"
      ]
    },
    {
      "cell_type": "markdown",
      "metadata": {
        "id": "mycS4QBmmXrH"
      },
      "source": [
        "#1.Membuat Numpy Array"
      ]
    },
    {
      "cell_type": "markdown",
      "metadata": {
        "id": "gSfj06X1naO3"
      },
      "source": [
        "NumPy adalah singkatan dari Numerical Python yang merupakan salah satu library terpenting dalam bahasa pemrograman python. Manipulasi NumPy array mirip dengan manipulasi data pada python. Beberapa manipulasi array dasar adalah atribut array, pengindeksan array, pembentukan baris, dan penggabungan-pemisahan array. Maksud dari atribut array adalah menentukan ukuran, bentuk, dan mengatur nilai elemen individu array. Pengindeksan array berguna untuk mendapatkan dan mengatur nilai elemen individu pada array. Manipulasi array yang juga banyak digunakan adalah menggabungkan beberapa array menjadi satu atau memisahkan satu array menjadi beberapa bagian. \n",
        "\n",
        "Library NumPy digunakan untuk memproses array. Array NumPy adalah objek array berdimensi-N yang kuat dan digunakan pada aljabar linier, transformasi fourier, dan bilangan acak. Array dibagi menjadi dua jenis, yaitu array satu dimensi dan array multi dimensi. Array satu dimensi adalah jenis array linier, sedangkan array multidimensi adalah data dalam bentuk array yang disimpan dalam bentuk tabel. "
      ]
    },
    {
      "cell_type": "markdown",
      "metadata": {
        "id": "gzGkmL0oX155"
      },
      "source": [
        "mengimpor library numpy"
      ]
    },
    {
      "cell_type": "code",
      "metadata": {
        "id": "28jGHB3Kk6nZ"
      },
      "source": [
        "import numpy as np"
      ],
      "execution_count": 2,
      "outputs": []
    },
    {
      "cell_type": "code",
      "metadata": {
        "colab": {
          "base_uri": "https://localhost:8080/"
        },
        "id": "FejDt502uaCf",
        "outputId": "0cfcfa2a-7d69-4c74-989c-abef4c9fd24e"
      },
      "source": [
        "#membuat array\n",
        "x = np.array([1,2,3,4,5,6,7,8])\n",
        "print(x)\n",
        "print()\n",
        "print(x.shape) # ukuran array\n",
        "print()\n",
        "print(x.dtype) # tipe data elemen array\n",
        "print()\n",
        "\n",
        "print(x.ndim)\n",
        "print()\n",
        "print(x.size) # jumlah elemen\n",
        "print()\n",
        "print(x.itemsize) # ukuran bit untuk masing-masing elemen"
      ],
      "execution_count": 44,
      "outputs": [
        {
          "output_type": "stream",
          "text": [
            "[1 2 3 4 5 6 7 8]\n",
            "\n",
            "(8,)\n",
            "\n",
            "int64\n",
            "\n",
            "1\n",
            "\n",
            "8\n",
            "\n",
            "8\n"
          ],
          "name": "stdout"
        }
      ]
    },
    {
      "cell_type": "code",
      "metadata": {
        "colab": {
          "base_uri": "https://localhost:8080/"
        },
        "id": "bhVkSqp8yad4",
        "outputId": "6fe5ad11-4cfd-4240-d462-2a365c7b31b9"
      },
      "source": [
        "# mengubah array 1 × 1 menjadi array 5 × 2\n",
        "z = np.array(range(10))\n",
        "z = z.reshape(5,2)\n",
        "z"
      ],
      "execution_count": 4,
      "outputs": [
        {
          "output_type": "execute_result",
          "data": {
            "text/plain": [
              "array([[0, 1],\n",
              "       [2, 3],\n",
              "       [4, 5],\n",
              "       [6, 7],\n",
              "       [8, 9]])"
            ]
          },
          "metadata": {
            "tags": []
          },
          "execution_count": 4
        }
      ]
    },
    {
      "cell_type": "markdown",
      "metadata": {
        "id": "Rq3BR1yPpcBu"
      },
      "source": [
        "#2.Vektor dengan Numpy Array"
      ]
    },
    {
      "cell_type": "code",
      "metadata": {
        "colab": {
          "base_uri": "https://localhost:8080/"
        },
        "id": "N-8szeMhu1xH",
        "outputId": "c26a6d8a-dd40-44e3-8bb0-ff08ecb8c6e3"
      },
      "source": [
        "# membuat vector\n",
        "a = np.array([1,2,3])\n",
        "b = np.array([1.5, 2.5, 3.5])\n",
        "\n",
        "# membuat vector dengan range\n",
        "c = np.arange(1,10,3)\n",
        "\n",
        "print(a)\n",
        "print()\n",
        "print(b)\n",
        "print()\n",
        "print(c)"
      ],
      "execution_count": 45,
      "outputs": [
        {
          "output_type": "stream",
          "text": [
            "[1 2 3]\n",
            "\n",
            "[1.5 2.5 3.5]\n",
            "\n",
            "[1 4 7]\n"
          ],
          "name": "stdout"
        }
      ]
    },
    {
      "cell_type": "markdown",
      "metadata": {
        "id": "5HkUT4P4zTik"
      },
      "source": [
        "#3.Operasi vektor  (Penjumlahan, Pengurangan, Perkalian dengan Scalar)"
      ]
    },
    {
      "cell_type": "code",
      "metadata": {
        "colab": {
          "base_uri": "https://localhost:8080/"
        },
        "id": "txv6sqKvzY6Y",
        "outputId": "6be074fd-c8d8-439b-9e22-cec323ca3409"
      },
      "source": [
        "a = np.array([1,2,3])\n",
        "b = np.array([1.5, 2.5, 3.5])\n",
        "\n",
        "penjumlahan = a + b\n",
        "\n",
        "pengurangan = a - b\n",
        "\n",
        "perkalianscalar = 5 * a\n",
        "\n",
        "print(penjumlahan)\n",
        "print()\n",
        "print(pengurangan)\n",
        "print()\n",
        "print(perkalianscalar)"
      ],
      "execution_count": 46,
      "outputs": [
        {
          "output_type": "stream",
          "text": [
            "[2.5 4.5 6.5]\n",
            "\n",
            "[-0.5 -0.5 -0.5]\n",
            "\n",
            "[ 5 10 15]\n"
          ],
          "name": "stdout"
        }
      ]
    },
    {
      "cell_type": "markdown",
      "metadata": {
        "id": "k3dGNMvv0Gfz"
      },
      "source": [
        "#4.Matriks dengan Numpy Array"
      ]
    },
    {
      "cell_type": "code",
      "metadata": {
        "colab": {
          "base_uri": "https://localhost:8080/"
        },
        "id": "TV8dBdaHxvQY",
        "outputId": "cecf4f43-c7dc-40c4-8b2a-51f6159f4cd2"
      },
      "source": [
        "#array multidimensi / matriks\n",
        "#dua dimensi\n",
        "y = np.array([[1, 2, 3],[2, 1, 1]], float)\n",
        "print (y)\n",
        "print()\n",
        "\n",
        "#tiga dimensi\n",
        "z = np.array([[1,2,5],[5,7,2],[3,1,2]])\n",
        "print(z)"
      ],
      "execution_count": 47,
      "outputs": [
        {
          "output_type": "stream",
          "text": [
            "[[1. 2. 3.]\n",
            " [2. 1. 1.]]\n",
            "\n",
            "[[1 2 5]\n",
            " [5 7 2]\n",
            " [3 1 2]]\n"
          ],
          "name": "stdout"
        }
      ]
    },
    {
      "cell_type": "code",
      "metadata": {
        "colab": {
          "base_uri": "https://localhost:8080/"
        },
        "id": "hkFKroEB1DMR",
        "outputId": "3d20821d-7a99-4a76-c117-80d091d2f41f"
      },
      "source": [
        "# matrix dengan nilai nol\n",
        "aa = np.zeros((3,3))\n",
        "\n",
        "# matrix dengan nilai satu\n",
        "ab = np.ones((3,3))\n",
        "\n",
        "# matrix identitas\n",
        "a1 = np.identity(3)\n",
        "a2 = np.eye(3)\n",
        "\n",
        "print(aa)\n",
        "print()\n",
        "print(ab)\n",
        "print()\n",
        "print(a1)\n",
        "print()\n",
        "print(a2)"
      ],
      "execution_count": 48,
      "outputs": [
        {
          "output_type": "stream",
          "text": [
            "[[0. 0. 0.]\n",
            " [0. 0. 0.]\n",
            " [0. 0. 0.]]\n",
            "\n",
            "[[1. 1. 1.]\n",
            " [1. 1. 1.]\n",
            " [1. 1. 1.]]\n",
            "\n",
            "[[1. 0. 0.]\n",
            " [0. 1. 0.]\n",
            " [0. 0. 1.]]\n",
            "\n",
            "[[1. 0. 0.]\n",
            " [0. 1. 0.]\n",
            " [0. 0. 1.]]\n"
          ],
          "name": "stdout"
        }
      ]
    },
    {
      "cell_type": "markdown",
      "metadata": {
        "id": "w2SIATBT033f"
      },
      "source": [
        "#5.Operasi Matriks(Penjumlahan, Pengurangan, Perkalian dengan Scalar,Perkalian Matriks)"
      ]
    },
    {
      "cell_type": "code",
      "metadata": {
        "colab": {
          "base_uri": "https://localhost:8080/"
        },
        "id": "hQpFcONA08Nj",
        "outputId": "92a2441d-a8a9-4546-9741-9ff7efda8e51"
      },
      "source": [
        "y = np.array([[1, 2],[1, 1]])\n",
        "z = np.array([[8, 2],[3, 6]])\n",
        "\n",
        "#penjumlahan\n",
        "a = y+z\n",
        "print(a)\n",
        "print()\n",
        "\n",
        "#pengurangan\n",
        "b = y-z\n",
        "print(b)\n",
        "print()\n",
        "\n",
        "#perkalian dengan skalar\n",
        "c = 2*z\n",
        "print(c)\n",
        "print()\n",
        "\n",
        "#perkalian matriks\n",
        "d = y*z\n",
        "print(d)\n",
        "print()\n",
        "\n",
        "#perkalian matriks\n",
        "e = np.multiply(y,z)\n",
        "print(e)"
      ],
      "execution_count": 49,
      "outputs": [
        {
          "output_type": "stream",
          "text": [
            "[[9 4]\n",
            " [4 7]]\n",
            "\n",
            "[[-7  0]\n",
            " [-2 -5]]\n",
            "\n",
            "[[16  4]\n",
            " [ 6 12]]\n",
            "\n",
            "[[8 4]\n",
            " [3 6]]\n",
            "\n",
            "[[8 4]\n",
            " [3 6]]\n"
          ],
          "name": "stdout"
        }
      ]
    },
    {
      "cell_type": "markdown",
      "metadata": {
        "id": "kMKd6cO23xlS"
      },
      "source": [
        "penjumlahan dan pengurangan dapat juga dicari seperti berikut."
      ]
    },
    {
      "cell_type": "code",
      "metadata": {
        "colab": {
          "base_uri": "https://localhost:8080/"
        },
        "id": "s1SONSCw3WfQ",
        "outputId": "3e86a8cf-5e38-4fc2-9a2e-56dd97c8d8a4"
      },
      "source": [
        "y = np.array([[1, 2],[1, 1]])\n",
        "z = np.array([[8, 2],[3, 6]])\n",
        "\n",
        "#penjumlahan\n",
        "a = np.add(y,z)\n",
        "print(a)\n",
        "print()\n",
        "\n",
        "#pengurangan\n",
        "b = np.subtract(y,z)\n",
        "print(b)"
      ],
      "execution_count": 50,
      "outputs": [
        {
          "output_type": "stream",
          "text": [
            "[[9 4]\n",
            " [4 7]]\n",
            "\n",
            "[[-7  0]\n",
            " [-2 -5]]\n"
          ],
          "name": "stdout"
        }
      ]
    },
    {
      "cell_type": "markdown",
      "metadata": {
        "id": "dB0PHiLH38yM"
      },
      "source": [
        "#6.Dot Product dan Cross Product "
      ]
    },
    {
      "cell_type": "code",
      "metadata": {
        "colab": {
          "base_uri": "https://localhost:8080/"
        },
        "id": "ci6i2nB339Yi",
        "outputId": "cc45fe28-4344-499c-aff2-2d1d2db7068f"
      },
      "source": [
        "y = np.array([[1, 2],[1, 1]])\n",
        "z = np.array([[8, 2],[3, 6]])\n",
        "\n",
        "#perkalian dot\n",
        "X1 = np.dot(y,z)\n",
        "print(X1)\n",
        "print()\n",
        "\n",
        "#perkalian cross\n",
        "X2 = np.cross(y,z)\n",
        "print(X2)"
      ],
      "execution_count": 51,
      "outputs": [
        {
          "output_type": "stream",
          "text": [
            "[[14 14]\n",
            " [11  8]]\n",
            "\n",
            "[-14   3]\n"
          ],
          "name": "stdout"
        }
      ]
    },
    {
      "cell_type": "markdown",
      "metadata": {
        "id": "m2_-ve4UFMGJ"
      },
      "source": [
        "#7.Aljabar Linear dengan Numpy (Inverse Matriks, Determinan, Mengambil Elemen Diagonal, Solve Persamaan Linear)"
      ]
    },
    {
      "cell_type": "code",
      "metadata": {
        "colab": {
          "base_uri": "https://localhost:8080/"
        },
        "id": "e7rschGOFPNk",
        "outputId": "11e187b4-a71c-4bc6-8379-ead81bc24c61"
      },
      "source": [
        "a = np.array([[5,7],[1,9]])\n",
        "A = np.array([2,3])\n",
        "\n",
        "# determinant\n",
        "b = np.linalg.det(a)\n",
        "print(b)\n",
        "print()\n",
        "\n",
        "# inverse\n",
        "c = np.linalg.inv(a)\n",
        "print(c)\n",
        "print()\n",
        "\n",
        "#mengambil elemen diagonal\n",
        "d = np.diag(a)\n",
        "print(d)\n",
        "print()\n",
        "\n",
        "#solve persamaan linier\n",
        "solusi = np.dot(c,A)\n",
        "print(solusi)"
      ],
      "execution_count": 23,
      "outputs": [
        {
          "output_type": "stream",
          "text": [
            "37.99999999999999\n",
            "\n",
            "[[ 0.23684211 -0.18421053]\n",
            " [-0.02631579  0.13157895]]\n",
            "\n",
            "[5 9]\n",
            "\n",
            "[-0.07894737  0.34210526]\n"
          ],
          "name": "stdout"
        }
      ]
    },
    {
      "cell_type": "markdown",
      "metadata": {
        "id": "aITB5kN4K90I"
      },
      "source": [
        "#8.Principal Component Analysis dengan Numpy"
      ]
    },
    {
      "cell_type": "code",
      "metadata": {
        "colab": {
          "base_uri": "https://localhost:8080/",
          "height": 224
        },
        "id": "Z51CUs3dUtGv",
        "outputId": "2fe4943b-e59b-4a64-f62a-d021baafd1c5"
      },
      "source": [
        "import pandas as pd\n",
        "import numpy as np\n",
        "import random\n",
        "\n",
        "data = {'a': [random.uniform(0, 1) for i in range(100)],\n",
        "        'b': [random.uniform(0, 1) for i in range(100)],\n",
        "        'c': [random.uniform(0, 1) for i in range(100)],\n",
        "        'd': [random.uniform(0, 1) for i in range(100)],\n",
        "        'e': [random.uniform(0, 1) for i in range(100)],\n",
        "        'f': [random.uniform(0, 1) for i in range(100)],\n",
        "        'g': [random.uniform(0, 1) for i in range(100)],\n",
        "        'h': [random.uniform(0, 1) for i in range(100)],\n",
        "        'i': [random.uniform(0, 1) for i in range(100)],\n",
        "        'j': [random.uniform(0, 1) for i in range(100)],\n",
        "        'k': [random.uniform(0, 1) for i in range(100)],\n",
        "        'l': [random.uniform(0, 1) for i in range(100)],\n",
        "        'label': [random.choice(['A', 'B', 'C']) for i in range(100)]}\n",
        "\n",
        "df = pd.DataFrame(data)\n",
        "df.head()"
      ],
      "execution_count": 37,
      "outputs": [
        {
          "output_type": "execute_result",
          "data": {
            "text/html": [
              "<div>\n",
              "<style scoped>\n",
              "    .dataframe tbody tr th:only-of-type {\n",
              "        vertical-align: middle;\n",
              "    }\n",
              "\n",
              "    .dataframe tbody tr th {\n",
              "        vertical-align: top;\n",
              "    }\n",
              "\n",
              "    .dataframe thead th {\n",
              "        text-align: right;\n",
              "    }\n",
              "</style>\n",
              "<table border=\"1\" class=\"dataframe\">\n",
              "  <thead>\n",
              "    <tr style=\"text-align: right;\">\n",
              "      <th></th>\n",
              "      <th>a</th>\n",
              "      <th>b</th>\n",
              "      <th>c</th>\n",
              "      <th>d</th>\n",
              "      <th>e</th>\n",
              "      <th>f</th>\n",
              "      <th>g</th>\n",
              "      <th>h</th>\n",
              "      <th>i</th>\n",
              "      <th>j</th>\n",
              "      <th>k</th>\n",
              "      <th>l</th>\n",
              "      <th>label</th>\n",
              "    </tr>\n",
              "  </thead>\n",
              "  <tbody>\n",
              "    <tr>\n",
              "      <th>0</th>\n",
              "      <td>0.981070</td>\n",
              "      <td>0.457769</td>\n",
              "      <td>0.078663</td>\n",
              "      <td>0.030306</td>\n",
              "      <td>0.792033</td>\n",
              "      <td>0.308908</td>\n",
              "      <td>0.304717</td>\n",
              "      <td>0.824601</td>\n",
              "      <td>0.007261</td>\n",
              "      <td>0.148829</td>\n",
              "      <td>0.282122</td>\n",
              "      <td>0.411113</td>\n",
              "      <td>C</td>\n",
              "    </tr>\n",
              "    <tr>\n",
              "      <th>1</th>\n",
              "      <td>0.254483</td>\n",
              "      <td>0.910400</td>\n",
              "      <td>0.531778</td>\n",
              "      <td>0.021052</td>\n",
              "      <td>0.372903</td>\n",
              "      <td>0.327091</td>\n",
              "      <td>0.642399</td>\n",
              "      <td>0.949511</td>\n",
              "      <td>0.179523</td>\n",
              "      <td>0.331463</td>\n",
              "      <td>0.045234</td>\n",
              "      <td>0.683281</td>\n",
              "      <td>C</td>\n",
              "    </tr>\n",
              "    <tr>\n",
              "      <th>2</th>\n",
              "      <td>0.795833</td>\n",
              "      <td>0.199612</td>\n",
              "      <td>0.784202</td>\n",
              "      <td>0.128299</td>\n",
              "      <td>0.418772</td>\n",
              "      <td>0.387986</td>\n",
              "      <td>0.741019</td>\n",
              "      <td>0.932454</td>\n",
              "      <td>0.513378</td>\n",
              "      <td>0.729698</td>\n",
              "      <td>0.078452</td>\n",
              "      <td>0.050221</td>\n",
              "      <td>C</td>\n",
              "    </tr>\n",
              "    <tr>\n",
              "      <th>3</th>\n",
              "      <td>0.261033</td>\n",
              "      <td>0.645742</td>\n",
              "      <td>0.585638</td>\n",
              "      <td>0.611511</td>\n",
              "      <td>0.965598</td>\n",
              "      <td>0.603330</td>\n",
              "      <td>0.336442</td>\n",
              "      <td>0.202966</td>\n",
              "      <td>0.650527</td>\n",
              "      <td>0.509291</td>\n",
              "      <td>0.496850</td>\n",
              "      <td>0.254882</td>\n",
              "      <td>A</td>\n",
              "    </tr>\n",
              "    <tr>\n",
              "      <th>4</th>\n",
              "      <td>0.302716</td>\n",
              "      <td>0.332974</td>\n",
              "      <td>0.569827</td>\n",
              "      <td>0.026068</td>\n",
              "      <td>0.328350</td>\n",
              "      <td>0.115661</td>\n",
              "      <td>0.303345</td>\n",
              "      <td>0.521756</td>\n",
              "      <td>0.673729</td>\n",
              "      <td>0.638482</td>\n",
              "      <td>0.985855</td>\n",
              "      <td>0.108481</td>\n",
              "      <td>C</td>\n",
              "    </tr>\n",
              "  </tbody>\n",
              "</table>\n",
              "</div>"
            ],
            "text/plain": [
              "          a         b         c         d  ...         j         k         l  label\n",
              "0  0.981070  0.457769  0.078663  0.030306  ...  0.148829  0.282122  0.411113      C\n",
              "1  0.254483  0.910400  0.531778  0.021052  ...  0.331463  0.045234  0.683281      C\n",
              "2  0.795833  0.199612  0.784202  0.128299  ...  0.729698  0.078452  0.050221      C\n",
              "3  0.261033  0.645742  0.585638  0.611511  ...  0.509291  0.496850  0.254882      A\n",
              "4  0.302716  0.332974  0.569827  0.026068  ...  0.638482  0.985855  0.108481      C\n",
              "\n",
              "[5 rows x 13 columns]"
            ]
          },
          "metadata": {
            "tags": []
          },
          "execution_count": 37
        }
      ]
    },
    {
      "cell_type": "markdown",
      "metadata": {
        "id": "G5XMOHRlVo7J"
      },
      "source": [
        "Kemudian kita pisahkan kolom fitur dan label seperti di bawah ini."
      ]
    },
    {
      "cell_type": "code",
      "metadata": {
        "colab": {
          "base_uri": "https://localhost:8080/",
          "height": 204
        },
        "id": "oyjsnI2-Vp3b",
        "outputId": "296e6a2b-5655-4c4d-9587-0b854f9831f8"
      },
      "source": [
        "x = df.iloc[:,:-1]\n",
        "x.head()"
      ],
      "execution_count": 38,
      "outputs": [
        {
          "output_type": "execute_result",
          "data": {
            "text/html": [
              "<div>\n",
              "<style scoped>\n",
              "    .dataframe tbody tr th:only-of-type {\n",
              "        vertical-align: middle;\n",
              "    }\n",
              "\n",
              "    .dataframe tbody tr th {\n",
              "        vertical-align: top;\n",
              "    }\n",
              "\n",
              "    .dataframe thead th {\n",
              "        text-align: right;\n",
              "    }\n",
              "</style>\n",
              "<table border=\"1\" class=\"dataframe\">\n",
              "  <thead>\n",
              "    <tr style=\"text-align: right;\">\n",
              "      <th></th>\n",
              "      <th>a</th>\n",
              "      <th>b</th>\n",
              "      <th>c</th>\n",
              "      <th>d</th>\n",
              "      <th>e</th>\n",
              "      <th>f</th>\n",
              "      <th>g</th>\n",
              "      <th>h</th>\n",
              "      <th>i</th>\n",
              "      <th>j</th>\n",
              "      <th>k</th>\n",
              "      <th>l</th>\n",
              "    </tr>\n",
              "  </thead>\n",
              "  <tbody>\n",
              "    <tr>\n",
              "      <th>0</th>\n",
              "      <td>0.981070</td>\n",
              "      <td>0.457769</td>\n",
              "      <td>0.078663</td>\n",
              "      <td>0.030306</td>\n",
              "      <td>0.792033</td>\n",
              "      <td>0.308908</td>\n",
              "      <td>0.304717</td>\n",
              "      <td>0.824601</td>\n",
              "      <td>0.007261</td>\n",
              "      <td>0.148829</td>\n",
              "      <td>0.282122</td>\n",
              "      <td>0.411113</td>\n",
              "    </tr>\n",
              "    <tr>\n",
              "      <th>1</th>\n",
              "      <td>0.254483</td>\n",
              "      <td>0.910400</td>\n",
              "      <td>0.531778</td>\n",
              "      <td>0.021052</td>\n",
              "      <td>0.372903</td>\n",
              "      <td>0.327091</td>\n",
              "      <td>0.642399</td>\n",
              "      <td>0.949511</td>\n",
              "      <td>0.179523</td>\n",
              "      <td>0.331463</td>\n",
              "      <td>0.045234</td>\n",
              "      <td>0.683281</td>\n",
              "    </tr>\n",
              "    <tr>\n",
              "      <th>2</th>\n",
              "      <td>0.795833</td>\n",
              "      <td>0.199612</td>\n",
              "      <td>0.784202</td>\n",
              "      <td>0.128299</td>\n",
              "      <td>0.418772</td>\n",
              "      <td>0.387986</td>\n",
              "      <td>0.741019</td>\n",
              "      <td>0.932454</td>\n",
              "      <td>0.513378</td>\n",
              "      <td>0.729698</td>\n",
              "      <td>0.078452</td>\n",
              "      <td>0.050221</td>\n",
              "    </tr>\n",
              "    <tr>\n",
              "      <th>3</th>\n",
              "      <td>0.261033</td>\n",
              "      <td>0.645742</td>\n",
              "      <td>0.585638</td>\n",
              "      <td>0.611511</td>\n",
              "      <td>0.965598</td>\n",
              "      <td>0.603330</td>\n",
              "      <td>0.336442</td>\n",
              "      <td>0.202966</td>\n",
              "      <td>0.650527</td>\n",
              "      <td>0.509291</td>\n",
              "      <td>0.496850</td>\n",
              "      <td>0.254882</td>\n",
              "    </tr>\n",
              "    <tr>\n",
              "      <th>4</th>\n",
              "      <td>0.302716</td>\n",
              "      <td>0.332974</td>\n",
              "      <td>0.569827</td>\n",
              "      <td>0.026068</td>\n",
              "      <td>0.328350</td>\n",
              "      <td>0.115661</td>\n",
              "      <td>0.303345</td>\n",
              "      <td>0.521756</td>\n",
              "      <td>0.673729</td>\n",
              "      <td>0.638482</td>\n",
              "      <td>0.985855</td>\n",
              "      <td>0.108481</td>\n",
              "    </tr>\n",
              "  </tbody>\n",
              "</table>\n",
              "</div>"
            ],
            "text/plain": [
              "          a         b         c  ...         j         k         l\n",
              "0  0.981070  0.457769  0.078663  ...  0.148829  0.282122  0.411113\n",
              "1  0.254483  0.910400  0.531778  ...  0.331463  0.045234  0.683281\n",
              "2  0.795833  0.199612  0.784202  ...  0.729698  0.078452  0.050221\n",
              "3  0.261033  0.645742  0.585638  ...  0.509291  0.496850  0.254882\n",
              "4  0.302716  0.332974  0.569827  ...  0.638482  0.985855  0.108481\n",
              "\n",
              "[5 rows x 12 columns]"
            ]
          },
          "metadata": {
            "tags": []
          },
          "execution_count": 38
        }
      ]
    },
    {
      "cell_type": "code",
      "metadata": {
        "colab": {
          "base_uri": "https://localhost:8080/"
        },
        "id": "HETdRxJtWCVB",
        "outputId": "2e4b4495-089f-44a2-fc5c-17fc694c7aef"
      },
      "source": [
        "y = df.iloc[:,-1]\n",
        "y.head()"
      ],
      "execution_count": 39,
      "outputs": [
        {
          "output_type": "execute_result",
          "data": {
            "text/plain": [
              "0    C\n",
              "1    C\n",
              "2    C\n",
              "3    A\n",
              "4    C\n",
              "Name: label, dtype: object"
            ]
          },
          "metadata": {
            "tags": []
          },
          "execution_count": 39
        }
      ]
    },
    {
      "cell_type": "markdown",
      "metadata": {
        "id": "JtfIt0HUWQeD"
      },
      "source": [
        "Setelah fitur dan label dipisahkan, selanjutnya mari kita terapkan reduksi dimensi pada dataframe tersebut menggunakan PCA "
      ]
    },
    {
      "cell_type": "markdown",
      "metadata": {
        "id": "ramgEHEgWXD9"
      },
      "source": [
        "Principal Component Analysis atau PCA adalah teknik reduksi dimensi yang paling populer. Teknik ini menggunakan operasi matriks sederhana dari aljabar linier dan statistik untuk menghitung proyeksi dari data asli ke dalam dimensi dengan jumlah yang sama atau lebih sedikit."
      ]
    },
    {
      "cell_type": "markdown",
      "metadata": {
        "id": "r7lKHzf8WeYg"
      },
      "source": [
        "Di Python, kita dapat melakukan kalkulasi Principal Component Analysis dengan class PCA() yang ada di library Scikit-Learn."
      ]
    },
    {
      "cell_type": "markdown",
      "metadata": {
        "id": "xNMyX0o-WfOR"
      },
      "source": [
        "Pertama kita harus mengimpor library-nya terlebih dahulu."
      ]
    },
    {
      "cell_type": "code",
      "metadata": {
        "id": "_fdQ6TTuWRTP"
      },
      "source": [
        "from sklearn.decomposition import PCA"
      ],
      "execution_count": 40,
      "outputs": []
    },
    {
      "cell_type": "markdown",
      "metadata": {
        "id": "Csc6IpoFWogW"
      },
      "source": [
        "Kemudian kita membuat class PCA() dengan memberikan parameter n_components yang mendefinisikan jumlah komponen atau kolom baru yang diinginkan."
      ]
    },
    {
      "cell_type": "code",
      "metadata": {
        "id": "qzkhZYxaWrvK"
      },
      "source": [
        "pca = PCA(n_components=2)"
      ],
      "execution_count": 41,
      "outputs": []
    },
    {
      "cell_type": "markdown",
      "metadata": {
        "id": "YFyZfzLPWzbo"
      },
      "source": [
        "Setelah membuat class, kita lakukan fit_transform pada data fitur. Jadi, nantinya 12 kolom fitur di atas akan diproses menggunakan teknik PCA sehingga akan mengeluarkan 2 kolom baru hasil reduksi."
      ]
    },
    {
      "cell_type": "code",
      "metadata": {
        "id": "PUPdJFekWyMC"
      },
      "source": [
        "fit_pca = pca.fit_transform(x)"
      ],
      "execution_count": 42,
      "outputs": []
    },
    {
      "cell_type": "markdown",
      "metadata": {
        "id": "0NotyZ3_XZgq"
      },
      "source": [
        "Selanjutnya kita buat dataframe baru hasil fit_transform tersebut."
      ]
    },
    {
      "cell_type": "code",
      "metadata": {
        "colab": {
          "base_uri": "https://localhost:8080/",
          "height": 204
        },
        "id": "E-OldFGOXekt",
        "outputId": "1fdc755a-9d8e-4357-e99b-95cf3e94601b"
      },
      "source": [
        "pca_df = pd.DataFrame(data = fit_pca, columns = ['PCA_1', 'PCA_2'])\n",
        "pca_df.tail()"
      ],
      "execution_count": 43,
      "outputs": [
        {
          "output_type": "execute_result",
          "data": {
            "text/html": [
              "<div>\n",
              "<style scoped>\n",
              "    .dataframe tbody tr th:only-of-type {\n",
              "        vertical-align: middle;\n",
              "    }\n",
              "\n",
              "    .dataframe tbody tr th {\n",
              "        vertical-align: top;\n",
              "    }\n",
              "\n",
              "    .dataframe thead th {\n",
              "        text-align: right;\n",
              "    }\n",
              "</style>\n",
              "<table border=\"1\" class=\"dataframe\">\n",
              "  <thead>\n",
              "    <tr style=\"text-align: right;\">\n",
              "      <th></th>\n",
              "      <th>PCA_1</th>\n",
              "      <th>PCA_2</th>\n",
              "    </tr>\n",
              "  </thead>\n",
              "  <tbody>\n",
              "    <tr>\n",
              "      <th>95</th>\n",
              "      <td>0.185178</td>\n",
              "      <td>-0.342873</td>\n",
              "    </tr>\n",
              "    <tr>\n",
              "      <th>96</th>\n",
              "      <td>0.074655</td>\n",
              "      <td>-0.529028</td>\n",
              "    </tr>\n",
              "    <tr>\n",
              "      <th>97</th>\n",
              "      <td>0.433207</td>\n",
              "      <td>0.260420</td>\n",
              "    </tr>\n",
              "    <tr>\n",
              "      <th>98</th>\n",
              "      <td>-0.082755</td>\n",
              "      <td>0.369548</td>\n",
              "    </tr>\n",
              "    <tr>\n",
              "      <th>99</th>\n",
              "      <td>-0.336611</td>\n",
              "      <td>0.061324</td>\n",
              "    </tr>\n",
              "  </tbody>\n",
              "</table>\n",
              "</div>"
            ],
            "text/plain": [
              "       PCA_1     PCA_2\n",
              "95  0.185178 -0.342873\n",
              "96  0.074655 -0.529028\n",
              "97  0.433207  0.260420\n",
              "98 -0.082755  0.369548\n",
              "99 -0.336611  0.061324"
            ]
          },
          "metadata": {
            "tags": []
          },
          "execution_count": 43
        }
      ]
    },
    {
      "cell_type": "markdown",
      "metadata": {
        "id": "-ipnJpA7XpKH"
      },
      "source": [
        "Sekarang fitur-fitur dalam dataset tersebut sudah direduksi menjadi hanya 2 fitur."
      ]
    }
  ]
}