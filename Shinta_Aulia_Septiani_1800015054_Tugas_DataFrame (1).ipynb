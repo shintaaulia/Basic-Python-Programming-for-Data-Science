{
  "nbformat": 4,
  "nbformat_minor": 0,
  "metadata": {
    "colab": {
      "name": "Shinta Aulia Septiani_1800015054_Tugas_DataFrame.ipynb",
      "provenance": [],
      "collapsed_sections": []
    },
    "kernelspec": {
      "name": "python3",
      "display_name": "Python 3"
    },
    "language_info": {
      "name": "python"
    }
  },
  "cells": [
    {
      "cell_type": "markdown",
      "metadata": {
        "id": "GCGj4Sth8wDQ"
      },
      "source": [
        "# **SHINTA AULIA SEPTIANI | NIM : 1800015054**"
      ]
    },
    {
      "cell_type": "code",
      "metadata": {
        "id": "TgJk9IOm03WV"
      },
      "source": [
        "import pandas as pd\n",
        "import numpy as np"
      ],
      "execution_count": 1,
      "outputs": []
    },
    {
      "cell_type": "code",
      "metadata": {
        "colab": {
          "base_uri": "https://localhost:8080/",
          "height": 419
        },
        "id": "iFC0ckRy0zuJ",
        "outputId": "b62294b6-6e94-4a32-b325-884eb522bb05"
      },
      "source": [
        "# Mengimpor Data Frame\n",
        "df = pd.read_csv(\"https://raw.githubusercontent.com/jokoeliyanto/Kelas-Dasar-Pejuang-Data-2.0/main/Super-Store-Dataset.csv\")\n",
        "\n",
        "# Memanggil Data Frame\n",
        "df"
      ],
      "execution_count": 2,
      "outputs": [
        {
          "output_type": "execute_result",
          "data": {
            "text/html": [
              "<div>\n",
              "<style scoped>\n",
              "    .dataframe tbody tr th:only-of-type {\n",
              "        vertical-align: middle;\n",
              "    }\n",
              "\n",
              "    .dataframe tbody tr th {\n",
              "        vertical-align: top;\n",
              "    }\n",
              "\n",
              "    .dataframe thead th {\n",
              "        text-align: right;\n",
              "    }\n",
              "</style>\n",
              "<table border=\"1\" class=\"dataframe\">\n",
              "  <thead>\n",
              "    <tr style=\"text-align: right;\">\n",
              "      <th></th>\n",
              "      <th>order_id</th>\n",
              "      <th>order_date</th>\n",
              "      <th>customer_id</th>\n",
              "      <th>segment</th>\n",
              "      <th>category</th>\n",
              "      <th>sub_category</th>\n",
              "      <th>sales</th>\n",
              "      <th>quantity</th>\n",
              "      <th>profit</th>\n",
              "    </tr>\n",
              "  </thead>\n",
              "  <tbody>\n",
              "    <tr>\n",
              "      <th>0</th>\n",
              "      <td>CA-2016-152156</td>\n",
              "      <td>11/8/2016</td>\n",
              "      <td>CG-12520</td>\n",
              "      <td>Consumer</td>\n",
              "      <td>Furniture</td>\n",
              "      <td>Bookcases</td>\n",
              "      <td>261.9600</td>\n",
              "      <td>2</td>\n",
              "      <td>41.9136</td>\n",
              "    </tr>\n",
              "    <tr>\n",
              "      <th>1</th>\n",
              "      <td>CA-2016-152156</td>\n",
              "      <td>11/8/2016</td>\n",
              "      <td>CG-12520</td>\n",
              "      <td>Consumer</td>\n",
              "      <td>Furniture</td>\n",
              "      <td>Chairs</td>\n",
              "      <td>731.9400</td>\n",
              "      <td>3</td>\n",
              "      <td>219.5820</td>\n",
              "    </tr>\n",
              "    <tr>\n",
              "      <th>2</th>\n",
              "      <td>CA-2016-138688</td>\n",
              "      <td>6/12/2016</td>\n",
              "      <td>DV-13045</td>\n",
              "      <td>Corporate</td>\n",
              "      <td>Office Supplies</td>\n",
              "      <td>Labels</td>\n",
              "      <td>14.6200</td>\n",
              "      <td>2</td>\n",
              "      <td>6.8714</td>\n",
              "    </tr>\n",
              "    <tr>\n",
              "      <th>3</th>\n",
              "      <td>US-2015-108966</td>\n",
              "      <td>10/11/2015</td>\n",
              "      <td>SO-20335</td>\n",
              "      <td>Consumer</td>\n",
              "      <td>Furniture</td>\n",
              "      <td>Tables</td>\n",
              "      <td>957.5775</td>\n",
              "      <td>5</td>\n",
              "      <td>-383.0310</td>\n",
              "    </tr>\n",
              "    <tr>\n",
              "      <th>4</th>\n",
              "      <td>US-2015-108966</td>\n",
              "      <td>10/11/2015</td>\n",
              "      <td>SO-20335</td>\n",
              "      <td>Consumer</td>\n",
              "      <td>Office Supplies</td>\n",
              "      <td>Storage</td>\n",
              "      <td>22.3680</td>\n",
              "      <td>2</td>\n",
              "      <td>2.5164</td>\n",
              "    </tr>\n",
              "    <tr>\n",
              "      <th>...</th>\n",
              "      <td>...</td>\n",
              "      <td>...</td>\n",
              "      <td>...</td>\n",
              "      <td>...</td>\n",
              "      <td>...</td>\n",
              "      <td>...</td>\n",
              "      <td>...</td>\n",
              "      <td>...</td>\n",
              "      <td>...</td>\n",
              "    </tr>\n",
              "    <tr>\n",
              "      <th>9983</th>\n",
              "      <td>CA-2014-110422</td>\n",
              "      <td>1/21/2014</td>\n",
              "      <td>TB-21400</td>\n",
              "      <td>Consumer</td>\n",
              "      <td>Furniture</td>\n",
              "      <td>Furnishings</td>\n",
              "      <td>25.2480</td>\n",
              "      <td>3</td>\n",
              "      <td>4.1028</td>\n",
              "    </tr>\n",
              "    <tr>\n",
              "      <th>9984</th>\n",
              "      <td>CA-2017-121258</td>\n",
              "      <td>2/26/2017</td>\n",
              "      <td>DB-13060</td>\n",
              "      <td>Consumer</td>\n",
              "      <td>Furniture</td>\n",
              "      <td>Furnishings</td>\n",
              "      <td>91.9600</td>\n",
              "      <td>2</td>\n",
              "      <td>15.6332</td>\n",
              "    </tr>\n",
              "    <tr>\n",
              "      <th>9985</th>\n",
              "      <td>CA-2017-121258</td>\n",
              "      <td>2/26/2017</td>\n",
              "      <td>DB-13060</td>\n",
              "      <td>Consumer</td>\n",
              "      <td>Technology</td>\n",
              "      <td>Phones</td>\n",
              "      <td>258.5760</td>\n",
              "      <td>2</td>\n",
              "      <td>19.3932</td>\n",
              "    </tr>\n",
              "    <tr>\n",
              "      <th>9986</th>\n",
              "      <td>CA-2017-121258</td>\n",
              "      <td>2/26/2017</td>\n",
              "      <td>DB-13060</td>\n",
              "      <td>Consumer</td>\n",
              "      <td>Office Supplies</td>\n",
              "      <td>Paper</td>\n",
              "      <td>29.6000</td>\n",
              "      <td>4</td>\n",
              "      <td>13.3200</td>\n",
              "    </tr>\n",
              "    <tr>\n",
              "      <th>9987</th>\n",
              "      <td>CA-2017-119914</td>\n",
              "      <td>5/4/2017</td>\n",
              "      <td>CC-12220</td>\n",
              "      <td>Consumer</td>\n",
              "      <td>Office Supplies</td>\n",
              "      <td>Appliances</td>\n",
              "      <td>243.1600</td>\n",
              "      <td>2</td>\n",
              "      <td>72.9480</td>\n",
              "    </tr>\n",
              "  </tbody>\n",
              "</table>\n",
              "<p>9988 rows × 9 columns</p>\n",
              "</div>"
            ],
            "text/plain": [
              "            order_id  order_date customer_id  ...     sales quantity    profit\n",
              "0     CA-2016-152156   11/8/2016    CG-12520  ...  261.9600        2   41.9136\n",
              "1     CA-2016-152156   11/8/2016    CG-12520  ...  731.9400        3  219.5820\n",
              "2     CA-2016-138688   6/12/2016    DV-13045  ...   14.6200        2    6.8714\n",
              "3     US-2015-108966  10/11/2015    SO-20335  ...  957.5775        5 -383.0310\n",
              "4     US-2015-108966  10/11/2015    SO-20335  ...   22.3680        2    2.5164\n",
              "...              ...         ...         ...  ...       ...      ...       ...\n",
              "9983  CA-2014-110422   1/21/2014    TB-21400  ...   25.2480        3    4.1028\n",
              "9984  CA-2017-121258   2/26/2017    DB-13060  ...   91.9600        2   15.6332\n",
              "9985  CA-2017-121258   2/26/2017    DB-13060  ...  258.5760        2   19.3932\n",
              "9986  CA-2017-121258   2/26/2017    DB-13060  ...   29.6000        4   13.3200\n",
              "9987  CA-2017-119914    5/4/2017    CC-12220  ...  243.1600        2   72.9480\n",
              "\n",
              "[9988 rows x 9 columns]"
            ]
          },
          "metadata": {
            "tags": []
          },
          "execution_count": 2
        }
      ]
    },
    {
      "cell_type": "markdown",
      "metadata": {
        "id": "1oxYAJIK1WGn"
      },
      "source": [
        "#**Tugas**#"
      ]
    },
    {
      "cell_type": "markdown",
      "metadata": {
        "id": "0aSAQB-J1bUz"
      },
      "source": [
        "1. Tentukan Segment mana dengan profit tertinggi!"
      ]
    },
    {
      "cell_type": "code",
      "metadata": {
        "colab": {
          "base_uri": "https://localhost:8080/"
        },
        "id": "h4TsKdKt1Vao",
        "outputId": "0883ef01-674e-4862-ec81-ab894c179bd7"
      },
      "source": [
        "#Melihat Segment Apa Saja Yang Ada\n",
        "df.segment.value_counts()"
      ],
      "execution_count": 3,
      "outputs": [
        {
          "output_type": "execute_result",
          "data": {
            "text/plain": [
              "Consumer       5188\n",
              "Corporate      3019\n",
              "Home Office    1781\n",
              "Name: segment, dtype: int64"
            ]
          },
          "metadata": {
            "tags": []
          },
          "execution_count": 3
        }
      ]
    },
    {
      "cell_type": "code",
      "metadata": {
        "colab": {
          "base_uri": "https://localhost:8080/"
        },
        "id": "8Uf9ZU391jXr",
        "outputId": "71e16e9a-88b0-42ff-e85a-8a0bcb9e4765"
      },
      "source": [
        "#Memilih masing-masing segmen\n",
        "df_Consumer=df[df['segment']=='Consumer']\n",
        "df_Corporate=df[df['segment']=='Corporate']\n",
        "df_Home_Office=df[df['segment']=='Home Office']\n",
        "\n",
        "print('Segment Consumer = ', df_Consumer.profit.sum())\n",
        "print('Segment Corporate = ', df_Corporate.profit.sum())\n",
        "print('Segment Home Office = ', df_Home_Office.profit.sum())"
      ],
      "execution_count": 5,
      "outputs": [
        {
          "output_type": "stream",
          "text": [
            "Segment Consumer =  128959.22080000001\n",
            "Segment Corporate =  83579.158\n",
            "Segment Home Office =  58189.7681\n"
          ],
          "name": "stdout"
        }
      ]
    },
    {
      "cell_type": "markdown",
      "metadata": {
        "id": "_58vV7L81w6e"
      },
      "source": [
        "Jadi, Segment dengan profit tertinggi yaitu **segment Consumer**  sebesar **128959.22020000001**"
      ]
    },
    {
      "cell_type": "markdown",
      "metadata": {
        "id": "OezmL64n1zJr"
      },
      "source": [
        "2. Tentukan Category mana dengan sales terbanyak!"
      ]
    },
    {
      "cell_type": "code",
      "metadata": {
        "colab": {
          "base_uri": "https://localhost:8080/"
        },
        "id": "ZUIXoILc1whQ",
        "outputId": "12faa20f-4bc0-4c70-c3e0-211ed1f14866"
      },
      "source": [
        "df.category.value_counts()"
      ],
      "execution_count": 7,
      "outputs": [
        {
          "output_type": "execute_result",
          "data": {
            "text/plain": [
              "Office Supplies    6026\n",
              "Furniture          2121\n",
              "Technology         1841\n",
              "Name: category, dtype: int64"
            ]
          },
          "metadata": {
            "tags": []
          },
          "execution_count": 7
        }
      ]
    },
    {
      "cell_type": "code",
      "metadata": {
        "colab": {
          "base_uri": "https://localhost:8080/"
        },
        "id": "KykoX0CV15pD",
        "outputId": "afee3cc0-9f9a-4091-8a95-e052fd527943"
      },
      "source": [
        "#Memilih masing-masing category\n",
        "df_Office_Supplies=df[df['category']=='Office Supplies']\n",
        "df_Furniture=df[df['category']=='Furniture']\n",
        "df_Technology=df[df['category']=='Technology']\n",
        "\n",
        "print('Category Supplies = ', df_Office_Supplies.sales.sum())\n",
        "print('Category Furniture = ', df_Furniture.sales.sum())\n",
        "print('Category Technology = ', df_Technology.sales.sum())"
      ],
      "execution_count": 9,
      "outputs": [
        {
          "output_type": "stream",
          "text": [
            "Category Supplies =  719047.032\n",
            "Category Furniture =  741999.7953\n",
            "Category Technology =  755815.72\n"
          ],
          "name": "stdout"
        }
      ]
    },
    {
      "cell_type": "markdown",
      "metadata": {
        "id": "LuL0PKTR3BNX"
      },
      "source": [
        "Jadi, category dengan sales terbanyak yaitu **Category** **Technology** dengan sales sebesar **755815.72**"
      ]
    },
    {
      "cell_type": "markdown",
      "metadata": {
        "id": "lokm0m7Z3NR2"
      },
      "source": [
        "3. Tentukan Sub-Category dengan quantity paling sedikit!"
      ]
    },
    {
      "cell_type": "code",
      "metadata": {
        "colab": {
          "base_uri": "https://localhost:8080/"
        },
        "id": "bT8bWClq28b3",
        "outputId": "d86576af-4d0d-41be-cc96-250302bfad76"
      },
      "source": [
        "df.sub_category.value_counts()"
      ],
      "execution_count": 10,
      "outputs": [
        {
          "output_type": "execute_result",
          "data": {
            "text/plain": [
              "Binders        1523\n",
              "Paper          1370\n",
              "Furnishings     957\n",
              "Phones          889\n",
              "Storage         846\n",
              "Art             796\n",
              "Accessories     775\n",
              "Chairs          617\n",
              "Appliances      466\n",
              "Labels          364\n",
              "Tables          319\n",
              "Envelopes       254\n",
              "Bookcases       228\n",
              "Fasteners       217\n",
              "Supplies        190\n",
              "Machines        113\n",
              "Copiers          64\n",
              "Name: sub_category, dtype: int64"
            ]
          },
          "metadata": {
            "tags": []
          },
          "execution_count": 10
        }
      ]
    },
    {
      "cell_type": "code",
      "metadata": {
        "id": "y5m8bBcj6rnm"
      },
      "source": [
        "df_Binders=df[df['sub_category']=='Binders']\n",
        "df_Paper=df[df['sub_category']=='Paper']\n",
        "df_Furnishings=df[df['sub_category']=='Furnishings']\n",
        "df_Phones=df[df['sub_category']=='Phones']\n",
        "df_Storage=df[df['sub_category']=='Storage']\n",
        "df_Art=df[df['sub_category']=='Art']\n",
        "df_Accessories=df[df['sub_category']=='Accessories']\n",
        "df_Chairs=df[df['sub_category']=='Chairs']\n",
        "df_Appliances=df[df['sub_category']=='Appliances']\n",
        "df_Labels=df[df['sub_category']=='Labels']\n",
        "df_Tables=df[df['sub_category']=='Tables']\n",
        "df_Envelopes=df[df['sub_category']=='Envelopes']\n",
        "df_Bookcases=df[df['sub_category']=='Bookcases']\n",
        "df_Fasteners=df[df['sub_category']=='Fasteners']\n",
        "df_Supplies=df[df['sub_category']=='Supplies']\n",
        "df_Machines=df[df['sub_category']=='Machines']\n",
        "df_Copiers=df[df['sub_category']=='Copiers']"
      ],
      "execution_count": 11,
      "outputs": []
    },
    {
      "cell_type": "code",
      "metadata": {
        "colab": {
          "base_uri": "https://localhost:8080/"
        },
        "id": "ZiRWbD5-6vG9",
        "outputId": "01fccd65-7ca9-468a-cd19-ef26218b1e3d"
      },
      "source": [
        "print('Quantity Binders = ', df_Binders.quantity.sum())\n",
        "print('Quantity Paper = ', df_Paper.quantity.sum())\n",
        "print('Quantity Furnishings = ', df_Furnishings.quantity.sum())\n",
        "print('Quantity Phones = ', df_Phones.quantity.sum())\n",
        "print('Quantity Storage = ', df_Storage.quantity.sum())\n",
        "print('Quantity Art = ', df_Art.quantity.sum())\n",
        "print('Quantity Accessories = ', df_Accessories.quantity.sum())\n",
        "print('Quantity Chairs = ', df_Chairs.quantity.sum())\n",
        "print('Quantity Appliances = ', df_Appliances.quantity.sum())\n",
        "print('Quantity Labels = ', df_Labels.quantity.sum())\n",
        "print('Quantity Tables = ', df_Tables.quantity.sum())\n",
        "print('Quantity Envelopes = ', df_Envelopes.quantity.sum())\n",
        "print('Quantity Bookcases = ', df_Bookcases.quantity.sum())\n",
        "print('Quantity Fasteners = ', df_Fasteners.quantity.sum())\n",
        "print('Quantity Supplies = ', df_Supplies.quantity.sum())\n",
        "print('Quantity Machines = ', df_Machines.quantity.sum())\n",
        "print('Quantity Copiers = ', df_Copiers.quantity.sum())"
      ],
      "execution_count": 13,
      "outputs": [
        {
          "output_type": "stream",
          "text": [
            "Quantity Binders =  5974\n",
            "Quantity Paper =  5178\n",
            "Quantity Furnishings =  3563\n",
            "Quantity Phones =  3289\n",
            "Quantity Storage =  3158\n",
            "Quantity Art =  3000\n",
            "Quantity Accessories =  2976\n",
            "Quantity Chairs =  2356\n",
            "Quantity Appliances =  1729\n",
            "Quantity Labels =  1400\n",
            "Quantity Tables =  1241\n",
            "Quantity Envelopes =  906\n",
            "Quantity Bookcases =  868\n",
            "Quantity Fasteners =  914\n",
            "Quantity Supplies =  647\n",
            "Quantity Machines =  429\n",
            "Quantity Copiers =  218\n"
          ],
          "name": "stdout"
        }
      ]
    },
    {
      "cell_type": "markdown",
      "metadata": {
        "id": "T1j4G5Pj7P4K"
      },
      "source": [
        "Sub-Category dengan quantity paling sedikit adalah **Copiers** dengan quantity sebesar **218**"
      ]
    },
    {
      "cell_type": "markdown",
      "metadata": {
        "id": "4p0IbW0o-JS5"
      },
      "source": [
        "# Challange Question!!!  "
      ]
    },
    {
      "cell_type": "markdown",
      "metadata": {
        "id": "kmWlDIcv7U73"
      },
      "source": [
        "4. **Tentukan Bulan dengan Profit Tertinggi!!!** "
      ]
    },
    {
      "cell_type": "code",
      "metadata": {
        "colab": {
          "base_uri": "https://localhost:8080/"
        },
        "id": "AZ7e7PGy7JLg",
        "outputId": "0c2a4c9d-3d6c-4180-ea27-76309f59ce4a"
      },
      "source": [
        "df.dtypes"
      ],
      "execution_count": 14,
      "outputs": [
        {
          "output_type": "execute_result",
          "data": {
            "text/plain": [
              "order_id         object\n",
              "order_date       object\n",
              "customer_id      object\n",
              "segment          object\n",
              "category         object\n",
              "sub_category     object\n",
              "sales           float64\n",
              "quantity          int64\n",
              "profit          float64\n",
              "dtype: object"
            ]
          },
          "metadata": {
            "tags": []
          },
          "execution_count": 14
        }
      ]
    },
    {
      "cell_type": "code",
      "metadata": {
        "colab": {
          "base_uri": "https://localhost:8080/",
          "height": 204
        },
        "id": "kQ8tNILp7ebX",
        "outputId": "1c7adc0f-5842-47ed-e650-dd3d88531c4c"
      },
      "source": [
        "df['order_date'] = pd.to_datetime(df.order_date)\n",
        "df.head()"
      ],
      "execution_count": 16,
      "outputs": [
        {
          "output_type": "execute_result",
          "data": {
            "text/html": [
              "<div>\n",
              "<style scoped>\n",
              "    .dataframe tbody tr th:only-of-type {\n",
              "        vertical-align: middle;\n",
              "    }\n",
              "\n",
              "    .dataframe tbody tr th {\n",
              "        vertical-align: top;\n",
              "    }\n",
              "\n",
              "    .dataframe thead th {\n",
              "        text-align: right;\n",
              "    }\n",
              "</style>\n",
              "<table border=\"1\" class=\"dataframe\">\n",
              "  <thead>\n",
              "    <tr style=\"text-align: right;\">\n",
              "      <th></th>\n",
              "      <th>order_id</th>\n",
              "      <th>order_date</th>\n",
              "      <th>customer_id</th>\n",
              "      <th>segment</th>\n",
              "      <th>category</th>\n",
              "      <th>sub_category</th>\n",
              "      <th>sales</th>\n",
              "      <th>quantity</th>\n",
              "      <th>profit</th>\n",
              "    </tr>\n",
              "  </thead>\n",
              "  <tbody>\n",
              "    <tr>\n",
              "      <th>0</th>\n",
              "      <td>CA-2016-152156</td>\n",
              "      <td>2016-11-08</td>\n",
              "      <td>CG-12520</td>\n",
              "      <td>Consumer</td>\n",
              "      <td>Furniture</td>\n",
              "      <td>Bookcases</td>\n",
              "      <td>261.9600</td>\n",
              "      <td>2</td>\n",
              "      <td>41.9136</td>\n",
              "    </tr>\n",
              "    <tr>\n",
              "      <th>1</th>\n",
              "      <td>CA-2016-152156</td>\n",
              "      <td>2016-11-08</td>\n",
              "      <td>CG-12520</td>\n",
              "      <td>Consumer</td>\n",
              "      <td>Furniture</td>\n",
              "      <td>Chairs</td>\n",
              "      <td>731.9400</td>\n",
              "      <td>3</td>\n",
              "      <td>219.5820</td>\n",
              "    </tr>\n",
              "    <tr>\n",
              "      <th>2</th>\n",
              "      <td>CA-2016-138688</td>\n",
              "      <td>2016-06-12</td>\n",
              "      <td>DV-13045</td>\n",
              "      <td>Corporate</td>\n",
              "      <td>Office Supplies</td>\n",
              "      <td>Labels</td>\n",
              "      <td>14.6200</td>\n",
              "      <td>2</td>\n",
              "      <td>6.8714</td>\n",
              "    </tr>\n",
              "    <tr>\n",
              "      <th>3</th>\n",
              "      <td>US-2015-108966</td>\n",
              "      <td>2015-10-11</td>\n",
              "      <td>SO-20335</td>\n",
              "      <td>Consumer</td>\n",
              "      <td>Furniture</td>\n",
              "      <td>Tables</td>\n",
              "      <td>957.5775</td>\n",
              "      <td>5</td>\n",
              "      <td>-383.0310</td>\n",
              "    </tr>\n",
              "    <tr>\n",
              "      <th>4</th>\n",
              "      <td>US-2015-108966</td>\n",
              "      <td>2015-10-11</td>\n",
              "      <td>SO-20335</td>\n",
              "      <td>Consumer</td>\n",
              "      <td>Office Supplies</td>\n",
              "      <td>Storage</td>\n",
              "      <td>22.3680</td>\n",
              "      <td>2</td>\n",
              "      <td>2.5164</td>\n",
              "    </tr>\n",
              "  </tbody>\n",
              "</table>\n",
              "</div>"
            ],
            "text/plain": [
              "         order_id order_date customer_id  ...     sales quantity    profit\n",
              "0  CA-2016-152156 2016-11-08    CG-12520  ...  261.9600        2   41.9136\n",
              "1  CA-2016-152156 2016-11-08    CG-12520  ...  731.9400        3  219.5820\n",
              "2  CA-2016-138688 2016-06-12    DV-13045  ...   14.6200        2    6.8714\n",
              "3  US-2015-108966 2015-10-11    SO-20335  ...  957.5775        5 -383.0310\n",
              "4  US-2015-108966 2015-10-11    SO-20335  ...   22.3680        2    2.5164\n",
              "\n",
              "[5 rows x 9 columns]"
            ]
          },
          "metadata": {
            "tags": []
          },
          "execution_count": 16
        }
      ]
    },
    {
      "cell_type": "code",
      "metadata": {
        "colab": {
          "base_uri": "https://localhost:8080/"
        },
        "id": "WOqgGvNW7pvs",
        "outputId": "23dec387-2a69-4046-da1d-7a0775e0cb19"
      },
      "source": [
        "df.dtypes"
      ],
      "execution_count": 17,
      "outputs": [
        {
          "output_type": "execute_result",
          "data": {
            "text/plain": [
              "order_id                object\n",
              "order_date      datetime64[ns]\n",
              "customer_id             object\n",
              "segment                 object\n",
              "category                object\n",
              "sub_category            object\n",
              "sales                  float64\n",
              "quantity                 int64\n",
              "profit                 float64\n",
              "dtype: object"
            ]
          },
          "metadata": {
            "tags": []
          },
          "execution_count": 17
        }
      ]
    },
    {
      "cell_type": "code",
      "metadata": {
        "colab": {
          "base_uri": "https://localhost:8080/",
          "height": 204
        },
        "id": "QI_f3mrW7tLo",
        "outputId": "c08cf3ae-52da-49bf-afdb-7126e0dfea57"
      },
      "source": [
        "df['month'] = df.order_date.dt.month\n",
        "#pada kolom month, angka mendefinisikan bulan ke- . contoh : 6 adalah bulan ke-6 yaitu Juni\n",
        "df.head()"
      ],
      "execution_count": 20,
      "outputs": [
        {
          "output_type": "execute_result",
          "data": {
            "text/html": [
              "<div>\n",
              "<style scoped>\n",
              "    .dataframe tbody tr th:only-of-type {\n",
              "        vertical-align: middle;\n",
              "    }\n",
              "\n",
              "    .dataframe tbody tr th {\n",
              "        vertical-align: top;\n",
              "    }\n",
              "\n",
              "    .dataframe thead th {\n",
              "        text-align: right;\n",
              "    }\n",
              "</style>\n",
              "<table border=\"1\" class=\"dataframe\">\n",
              "  <thead>\n",
              "    <tr style=\"text-align: right;\">\n",
              "      <th></th>\n",
              "      <th>order_id</th>\n",
              "      <th>order_date</th>\n",
              "      <th>customer_id</th>\n",
              "      <th>segment</th>\n",
              "      <th>category</th>\n",
              "      <th>sub_category</th>\n",
              "      <th>sales</th>\n",
              "      <th>quantity</th>\n",
              "      <th>profit</th>\n",
              "      <th>month</th>\n",
              "    </tr>\n",
              "  </thead>\n",
              "  <tbody>\n",
              "    <tr>\n",
              "      <th>0</th>\n",
              "      <td>CA-2016-152156</td>\n",
              "      <td>2016-11-08</td>\n",
              "      <td>CG-12520</td>\n",
              "      <td>Consumer</td>\n",
              "      <td>Furniture</td>\n",
              "      <td>Bookcases</td>\n",
              "      <td>261.9600</td>\n",
              "      <td>2</td>\n",
              "      <td>41.9136</td>\n",
              "      <td>11</td>\n",
              "    </tr>\n",
              "    <tr>\n",
              "      <th>1</th>\n",
              "      <td>CA-2016-152156</td>\n",
              "      <td>2016-11-08</td>\n",
              "      <td>CG-12520</td>\n",
              "      <td>Consumer</td>\n",
              "      <td>Furniture</td>\n",
              "      <td>Chairs</td>\n",
              "      <td>731.9400</td>\n",
              "      <td>3</td>\n",
              "      <td>219.5820</td>\n",
              "      <td>11</td>\n",
              "    </tr>\n",
              "    <tr>\n",
              "      <th>2</th>\n",
              "      <td>CA-2016-138688</td>\n",
              "      <td>2016-06-12</td>\n",
              "      <td>DV-13045</td>\n",
              "      <td>Corporate</td>\n",
              "      <td>Office Supplies</td>\n",
              "      <td>Labels</td>\n",
              "      <td>14.6200</td>\n",
              "      <td>2</td>\n",
              "      <td>6.8714</td>\n",
              "      <td>6</td>\n",
              "    </tr>\n",
              "    <tr>\n",
              "      <th>3</th>\n",
              "      <td>US-2015-108966</td>\n",
              "      <td>2015-10-11</td>\n",
              "      <td>SO-20335</td>\n",
              "      <td>Consumer</td>\n",
              "      <td>Furniture</td>\n",
              "      <td>Tables</td>\n",
              "      <td>957.5775</td>\n",
              "      <td>5</td>\n",
              "      <td>-383.0310</td>\n",
              "      <td>10</td>\n",
              "    </tr>\n",
              "    <tr>\n",
              "      <th>4</th>\n",
              "      <td>US-2015-108966</td>\n",
              "      <td>2015-10-11</td>\n",
              "      <td>SO-20335</td>\n",
              "      <td>Consumer</td>\n",
              "      <td>Office Supplies</td>\n",
              "      <td>Storage</td>\n",
              "      <td>22.3680</td>\n",
              "      <td>2</td>\n",
              "      <td>2.5164</td>\n",
              "      <td>10</td>\n",
              "    </tr>\n",
              "  </tbody>\n",
              "</table>\n",
              "</div>"
            ],
            "text/plain": [
              "         order_id order_date customer_id  ... quantity    profit month\n",
              "0  CA-2016-152156 2016-11-08    CG-12520  ...        2   41.9136    11\n",
              "1  CA-2016-152156 2016-11-08    CG-12520  ...        3  219.5820    11\n",
              "2  CA-2016-138688 2016-06-12    DV-13045  ...        2    6.8714     6\n",
              "3  US-2015-108966 2015-10-11    SO-20335  ...        5 -383.0310    10\n",
              "4  US-2015-108966 2015-10-11    SO-20335  ...        2    2.5164    10\n",
              "\n",
              "[5 rows x 10 columns]"
            ]
          },
          "metadata": {
            "tags": []
          },
          "execution_count": 20
        }
      ]
    },
    {
      "cell_type": "code",
      "metadata": {
        "colab": {
          "base_uri": "https://localhost:8080/"
        },
        "id": "gM8gRP2V701T",
        "outputId": "1bc73c1f-3d8b-41f0-bcb5-fa4d46608a18"
      },
      "source": [
        "df.month.value_counts()"
      ],
      "execution_count": 21,
      "outputs": [
        {
          "output_type": "execute_result",
          "data": {
            "text/plain": [
              "11    1469\n",
              "12    1408\n",
              "9     1383\n",
              "10     817\n",
              "5      735\n",
              "6      717\n",
              "7      710\n",
              "8      706\n",
              "3      694\n",
              "4      668\n",
              "1      381\n",
              "2      300\n",
              "Name: month, dtype: int64"
            ]
          },
          "metadata": {
            "tags": []
          },
          "execution_count": 21
        }
      ]
    },
    {
      "cell_type": "code",
      "metadata": {
        "colab": {
          "base_uri": "https://localhost:8080/",
          "height": 282
        },
        "id": "Ik-NzQF_7_dj",
        "outputId": "449d626a-a5a9-4e69-e55e-13b44b08144c"
      },
      "source": [
        "%matplotlib inline\n",
        "df.month.value_counts().sort_index().plot()"
      ],
      "execution_count": 22,
      "outputs": [
        {
          "output_type": "execute_result",
          "data": {
            "text/plain": [
              "<matplotlib.axes._subplots.AxesSubplot at 0x7f0b56484650>"
            ]
          },
          "metadata": {
            "tags": []
          },
          "execution_count": 22
        },
        {
          "output_type": "display_data",
          "data": {
            "image/png": "[encoded data removed]",
            "text/plain": [
              "<Figure size 432x288 with 1 Axes>"
            ]
          },
          "metadata": {
            "tags": [],
            "needs_background": "light"
          }
        }
      ]
    },
    {
      "cell_type": "code",
      "metadata": {
        "colab": {
          "base_uri": "https://localhost:8080/"
        },
        "id": "BOugvWB48E2S",
        "outputId": "ac16297b-13c5-4592-8001-a8b90eae7ea3"
      },
      "source": [
        "df.dtypes"
      ],
      "execution_count": 23,
      "outputs": [
        {
          "output_type": "execute_result",
          "data": {
            "text/plain": [
              "order_id                object\n",
              "order_date      datetime64[ns]\n",
              "customer_id             object\n",
              "segment                 object\n",
              "category                object\n",
              "sub_category            object\n",
              "sales                  float64\n",
              "quantity                 int64\n",
              "profit                 float64\n",
              "month                    int64\n",
              "dtype: object"
            ]
          },
          "metadata": {
            "tags": []
          },
          "execution_count": 23
        }
      ]
    },
    {
      "cell_type": "code",
      "metadata": {
        "id": "6pJ9T31q8Ky-"
      },
      "source": [
        "df['month'] = df['month'].astype(str)"
      ],
      "execution_count": 24,
      "outputs": []
    },
    {
      "cell_type": "code",
      "metadata": {
        "colab": {
          "base_uri": "https://localhost:8080/"
        },
        "id": "WIplVRSl8MKA",
        "outputId": "5156bef8-1494-454a-e193-05b3a08f1117"
      },
      "source": [
        "df.dtypes"
      ],
      "execution_count": 25,
      "outputs": [
        {
          "output_type": "execute_result",
          "data": {
            "text/plain": [
              "order_id                object\n",
              "order_date      datetime64[ns]\n",
              "customer_id             object\n",
              "segment                 object\n",
              "category                object\n",
              "sub_category            object\n",
              "sales                  float64\n",
              "quantity                 int64\n",
              "profit                 float64\n",
              "month                   object\n",
              "dtype: object"
            ]
          },
          "metadata": {
            "tags": []
          },
          "execution_count": 25
        }
      ]
    },
    {
      "cell_type": "code",
      "metadata": {
        "colab": {
          "base_uri": "https://localhost:8080/"
        },
        "id": "zX-3R59u8Poh",
        "outputId": "47d11054-a893-4480-f70c-2cd5ce136e0e"
      },
      "source": [
        "df_11=df[df['month']=='11']\n",
        "df_12=df[df['month']=='12']\n",
        "df_9=df[df['month']=='9']\n",
        "df_10=df[df['month']=='10']\n",
        "df_5=df[df['month']=='5']\n",
        "df_6=df[df['month']=='6']\n",
        "df_7=df[df['month']=='7']\n",
        "df_8=df[df['month']=='8']\n",
        "df_3=df[df['month']=='3']\n",
        "df_4=df[df['month']=='4']\n",
        "df_1=df[df['month']=='1']\n",
        "df_2=df[df['month']=='2']\n",
        "\n",
        "print('Profit bulan November = ', df_11.profit.sum())\n",
        "print('Profit bulan Desember = ', df_12.profit.sum())\n",
        "print('Profit bulan September = ', df_9.profit.sum())\n",
        "print('Profit bulan Oktober = ', df_10.profit.sum())\n",
        "print('Profit bulan Mei = ', df_5.profit.sum())\n",
        "print('Profit bulan Juni = ', df_6.profit.sum())\n",
        "print('Profit bulan Juli = ', df_7.profit.sum())\n",
        "print('Profit bulan Agustus = ', df_8.profit.sum())\n",
        "print('Profit bulan Maret = ', df_3.profit.sum())\n",
        "print('Profit bulan April = ', df_4.profit.sum())\n",
        "print('Profit bulan Januari = ', df_1.profit.sum())\n",
        "print('Profit bulan Februari = ', df_2.profit.sum())"
      ],
      "execution_count": 26,
      "outputs": [
        {
          "output_type": "stream",
          "text": [
            "Profit bulan November =  37028.418900000004\n",
            "Profit bulan Desember =  43369.1919\n",
            "Profit bulan September =  36857.4753\n",
            "Profit bulan Oktober =  19464.0765\n",
            "Profit bulan Mei =  22411.307800000002\n",
            "Profit bulan Juni =  21285.7954\n",
            "Profit bulan Juli =  13832.664800000002\n",
            "Profit bulan Agustus =  21776.9384\n",
            "Profit bulan Maret =  23685.7848\n",
            "Profit bulan April =  11587.436299999998\n",
            "Profit bulan Januari =  9134.446100000001\n",
            "Profit bulan Februari =  10294.610700000001\n"
          ],
          "name": "stdout"
        }
      ]
    },
    {
      "cell_type": "markdown",
      "metadata": {
        "id": "GC_Y8y_J8ZnF"
      },
      "source": [
        "Jadi, Bulan **Desember** merupakan bulan dengan profit tertinggi yaitu **43369.1919**."
      ]
    }
  ]
}