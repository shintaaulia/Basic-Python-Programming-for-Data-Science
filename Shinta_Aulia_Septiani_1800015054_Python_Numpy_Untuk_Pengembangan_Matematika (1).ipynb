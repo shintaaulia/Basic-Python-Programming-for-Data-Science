{
  "nbformat": 4,
  "nbformat_minor": 0,
  "metadata": {
    "colab": {
      "name": "Shinta Aulia Septiani 1800015054 Python_Numpy_Untuk_Pengembangan_Matematika.ipynb",
      "provenance": [],
      "collapsed_sections": [],
      "toc_visible": true
    },
    "kernelspec": {
      "name": "python3",
      "display_name": "Python 3"
    },
    "language_info": {
      "name": "python"
    }
  },
  "cells": [
    {
      "cell_type": "markdown",
      "metadata": {
        "id": "30eRIYVTq-0y"
      },
      "source": [
        "**SHINTA AULIA SEPTIANI  1800015054**"
      ]
    },
    {
      "cell_type": "markdown",
      "metadata": {
        "id": "W6FLlh_BDNA9"
      },
      "source": [
        "## Python Numpy Untuk Pengembangan Matematika\n",
        "Assalamualaikum warahmatullahi wabarakatuh.\n",
        "Robbi Zidni Ilma Warzuqni Fahma\n",
        "Selamat datang di salah satu notebook utama Kelas Dasar, Pejuang Data 2.0.\n",
        "\n",
        "Dalam Notebook ini, temen-temen akan belajar menggunakan Numpy untuk menuliskan model-model atau permasalahan matematika untuk pengembangan dan penelitian.\n",
        "\n",
        "Ini adalah salah satu tujuan utama kelas ini, yaitu memberikan bekal kepada mahasiswa Matematika agar bisa membangun sendiri model-model permasalahan Matematika ke dalam bahasa pemrograman Python. \n",
        "\n",
        "Ada beberapa tips agar bisa dengan cepat bisa membuat pemrograman dari suatu model matematika:\n",
        "1. Pahami benar model atau langkah-langkah suatu metode(misal model Regresi Linear).\n",
        "2. Pahami tipe data berkaitan dengan metode tersebut(numerik atau string). Jika berkaitan dengan bilangan float maka perhatikan dengan baik pembulatan yang terjadi saat proses penghitungan.\n",
        "3. Kuasai benar konsep dasar pemrograman seperti if, for loop, while loop, function, inout-output, dll.\n",
        "4. Sering berlatih membuat kode from scratch(dari dasar) bukan memnggunakan library atau packages\n",
        "\n"
      ]
    },
    {
      "cell_type": "markdown",
      "metadata": {
        "id": "cN7PRZVeExRy"
      },
      "source": [
        "## Beberapa Contoh Sederhana"
      ]
    },
    {
      "cell_type": "markdown",
      "metadata": {
        "id": "HigQ7QUrE0ME"
      },
      "source": [
        "### Mean, Median, Modus"
      ]
    },
    {
      "cell_type": "code",
      "metadata": {
        "id": "Qc1337mqDH17"
      },
      "source": [
        "import numpy as np\n",
        "dataset=np.array([1,1,2,3,4,6,18])"
      ],
      "execution_count": 1,
      "outputs": []
    },
    {
      "cell_type": "markdown",
      "metadata": {
        "id": "PWDDbpc-FUtz"
      },
      "source": [
        "**Mean, Median, Modus** menggunakan function numpy"
      ]
    },
    {
      "cell_type": "code",
      "metadata": {
        "colab": {
          "base_uri": "https://localhost:8080/"
        },
        "id": "040-__DIFILj",
        "outputId": "b237e4fd-1e7b-4862-b422-86fcda6d0e0f"
      },
      "source": [
        "#Rata-rata\n",
        "Rata2=np.mean(dataset)\n",
        "print('Rata-rata', Rata2)\n",
        "\n",
        "#Median\n",
        "Median=np.median(dataset)\n",
        "print('Median', Median)\n",
        "\n",
        "#Modus\n",
        "from scipy import stats\n",
        "Modus=stats.mode(dataset)\n",
        "print('Modus', Modus)"
      ],
      "execution_count": null,
      "outputs": [
        {
          "output_type": "stream",
          "text": [
            "Rata-rata 5.0\n",
            "Median 3.0\n",
            "Modus ModeResult(mode=array([1]), count=array([2]))\n"
          ],
          "name": "stdout"
        }
      ]
    },
    {
      "cell_type": "markdown",
      "metadata": {
        "id": "0Xe-QMzSG6-u"
      },
      "source": [
        "Khusus untuk Modus kita mengimpor suatu fungsi stats dari Library Scipy yang merupakan Library Numpy yang lebih lengkap untuk Matematika dan Data Science. Di sana tersedia fungsi-fungsi untuk kalkulus, PD dll. Mirip seperti tool box pada Matlab.\n"
      ]
    },
    {
      "cell_type": "markdown",
      "metadata": {
        "id": "LAnOojflHb7y"
      },
      "source": [
        "Notebook ini disusun untuk temen-temen memahami proses pembangunan koding dari dasar. Pada saat pembelajaran nanti kita akan fokus pada ide, masalah, dan step by step penyelesaiannya."
      ]
    },
    {
      "cell_type": "markdown",
      "metadata": {
        "id": "8QaJOFoUH2UQ"
      },
      "source": [
        "**Mean**\n",
        "\n",
        "Jawab pertanyaan-pertanyaan berikut untuk membuat program/fungsi untuk menghitung mean.\n",
        "\n",
        "1. Apa itu mean?\n",
        "2. Bagaimana cara menghitung mean?\n",
        "3. Apa yang harus diketahui(Input)?\n",
        "4. Apa yang akan dihasilkan?\n",
        "5. Apa masalah yang mungkin menghalangi?"
      ]
    },
    {
      "cell_type": "markdown",
      "metadata": {
        "id": "C4Tc7j6xwo-m"
      },
      "source": [
        "**Jawaban**\n",
        "\n",
        "1. Mean adalah nilai rata-rata dari suatu data.\n",
        "2. Rumus Mean yaitu jumlah semua data dibagi banyaknya data.\n",
        "3. Yang harus diketahui untuk mencari mean adalah nilai-nilai dari suatu data (integer).\n",
        "4. nilai-nilai tersebut dapat dicari jumlah data dan panjang data yang nanti digunakan untuk mencari mean.\n",
        "5. untuk data yang berjumlah banyak akan sulit menjumlahkannya."
      ]
    },
    {
      "cell_type": "markdown",
      "metadata": {
        "id": "HmmfDk-Mwo5v"
      },
      "source": [
        "mencari mean dengan cara manual\n",
        "\n",
        "data = 1,2,3\n",
        "\n",
        "mean = (1+2+3)/3\n",
        "\n",
        "mean = 6/3\n",
        "\n",
        "mean = 2"
      ]
    },
    {
      "cell_type": "markdown",
      "metadata": {
        "id": "Kd4zV8tOIrDe"
      },
      "source": [
        "Berikut contoh koding menghitung mean dalam bahasa Inggris. Silahkan gunakan sebagai petunjuk!!!\n",
        "\n",
        "```\n",
        "num_list = [21, 11, 19, 3,11,5]\n",
        "# FInd sum of the numbers\n",
        "num_sum = sum(num_list)\n",
        "#divide the sum with length of the list\n",
        "mean = num_sum / len(num_list)\n",
        "print(num_list)\n",
        "print(\"Mean of the above list of numbers is: \" + str(round(mean,2)))\n",
        "```"
      ]
    },
    {
      "cell_type": "code",
      "metadata": {
        "id": "67rAemXP0zZx"
      },
      "source": [
        "import statistics"
      ],
      "execution_count": 2,
      "outputs": []
    },
    {
      "cell_type": "code",
      "metadata": {
        "id": "-FQI1ghHIoGb",
        "colab": {
          "base_uri": "https://localhost:8080/"
        },
        "outputId": "717d1034-ed1f-44cb-d5c9-f2be705eb3d3"
      },
      "source": [
        "# Mean\n",
        "# Buatlah program/fungsi menghitung mean di sini!\n",
        "\n",
        "#tahap 1\n",
        "#masukan data\n",
        "#bisa dengan input dulu baru ke list\n",
        "#bisa juga langsung definisiin listnya\n",
        "#aku pake input  \n",
        "\n",
        "#input data ke list\n",
        "nilai = input('masukan data (pemisah dengan spasi) : ')\n",
        "data = []\n",
        "\n",
        "for x in nilai.split(' '):\n",
        "  data.append(int(x))\n",
        "\n",
        "print('data = ',data)\n",
        "\n",
        "#tahap 2\n",
        "#mencari jumlah data dan banyak data\n",
        "jumlah = sum(data)\n",
        "print('jumlah = ', jumlah)\n",
        "n = len(data)\n",
        "print('banyak data = ', n)\n",
        "\n",
        "#tahap 3\n",
        "#hitung mean\n",
        "mean = jumlah/n\n",
        "print('mean = ', mean)\n",
        "\n",
        "#atau dapat menggunakan fungsi yang sudah ada, tetapi pertama import statistics dulu\n",
        "#karena aku udah, diatas. jadi langsung aja pake\n",
        "mean_stat = statistics.mean(data)\n",
        "print('mean dengan statisticts = ',mean_stat)\n",
        "\n",
        "mean_np = np.mean(data)\n",
        "print('mean dengan numpy = ', mean_np)"
      ],
      "execution_count": 3,
      "outputs": [
        {
          "output_type": "stream",
          "text": [
            "masukan data (pemisah dengan spasi) : 8 9 7 5 7\n",
            "data =  [8, 9, 7, 5, 7]\n",
            "jumlah =  36\n",
            "banyak data =  5\n",
            "mean =  7.2\n",
            "mean dengan statisticts =  7.2\n",
            "mean dengan numpy =  7.2\n"
          ],
          "name": "stdout"
        }
      ]
    },
    {
      "cell_type": "markdown",
      "metadata": {
        "id": "bb3KeThMIu3Z"
      },
      "source": [
        "**Median**"
      ]
    },
    {
      "cell_type": "markdown",
      "metadata": {
        "id": "gwpWLRjMI2GI"
      },
      "source": [
        "Jawab pertanyaan-pertanyaan berikut untuk membuat program/fungsi untuk menghitung mean.\n",
        "\n",
        "1. Apa itu median?\n",
        "2. Bagaimana cara menghitung median?\n",
        "3. Adakah masalah percabangan atau perulangan?\n",
        "4. Apa yang harus diketahui(Input)?\n",
        "5. Apa yang akan dihasilkan?\n",
        "6. Apa masalah yang mungkin menghalangi?"
      ]
    },
    {
      "cell_type": "markdown",
      "metadata": {
        "id": "p8kiI7aJ3b8R"
      },
      "source": [
        "**Jawaban**\n",
        "\n",
        "1. median adalah nilai tengah dari suatu data\n",
        "2. cara menghitung median : mengurutkan data kemudian ambil nilai tengah dari data tersebut. jika jumlah data ganjil maka ambil nilai yang ditengahnya, namun jika data genap ambil 2 nilai tengah dari data yang sudah diurutkan kemudian untuk mencari mediannya yaitu jumlah 2 data dibagi 2.\n",
        "3. Data berupa bilangan integer\n",
        "4. nilai tengah dari suatu data tersebut.\n",
        "5. data tidak ganjil, sehingga harus melakukan proses komputasi lagi untuk mencari median. "
      ]
    },
    {
      "cell_type": "markdown",
      "metadata": {
        "id": "oLcGkLjZIoGa"
      },
      "source": [
        "Berikut contoh koding menghitung mean dalam bahasa Inggris. Silahkan gunakan sebagai petunjuk!!!\n",
        "\n",
        "```\n",
        "num_list = [21, 13, 19, 3,11,5]\n",
        "# Sort the list\n",
        "num_list.sort()\n",
        "# Finding the position of the median\n",
        "if len(num_list) % 2 == 0:\n",
        "   first_median = num_list[len(num_list) // 2]\n",
        "   second_median = num_list[len(num_list) // 2 - 1]\n",
        "   median = (first_median + second_median) / 2\n",
        "else:\n",
        "   median = num_list[len(num_list) // 2]\n",
        "print(num_list)\n",
        "print(\"Median of above list is: \" + str(median))\n",
        "```"
      ]
    },
    {
      "cell_type": "code",
      "metadata": {
        "id": "B9yMOdteJIVA",
        "colab": {
          "base_uri": "https://localhost:8080/"
        },
        "outputId": "1f18ffa5-b075-4108-f876-5aa407653deb"
      },
      "source": [
        "# Median\n",
        "# Buatlah program/fungsi menghitung median di sini!\n",
        "\n",
        "#tahap 1\n",
        "#masukan data\n",
        "#bisa dengan input dulu baru ke list\n",
        "#bisa juga langsung definisiin listnya\n",
        "#aku pake input  \n",
        "\n",
        "#input data ke list\n",
        "nilai = input('masukan data (pemisah dengan spasi) : ')\n",
        "data = []\n",
        "\n",
        "for x in nilai.split(' '):\n",
        "  data.append(int(x))\n",
        "\n",
        "print('data = ',data)\n",
        "data.sort()\n",
        "print('data sesudah diurutkan = ', data)\n",
        "\n",
        "#tahap 2\n",
        "#cari median\n",
        "if len(data) %2 == 0:\n",
        "  median1 = data[len(data) // 2] \n",
        "  median2 = data[len(data) // 2 - 1]\n",
        "  median = (median1 + median2)/2\n",
        "else:\n",
        "  median = data[len(data) // 2]\n",
        "\n",
        "print('median = ', median)\n",
        "\n",
        "#atau dapat menggunakan fungsi yang sudah ada, tetapi pertama import statistics dulu\n",
        "#karena aku udah, diatas. jadi langsung aja pake\n",
        "median_stat = statistics.median(data)\n",
        "print('median dengan statistics = ',median_stat)\n",
        "\n",
        "median_np = np.median(data)\n",
        "print('median dengan numpy = ', median_np)"
      ],
      "execution_count": 4,
      "outputs": [
        {
          "output_type": "stream",
          "text": [
            "masukan data (pemisah dengan spasi) : 8 6 9 5 4 7\n",
            "data =  [8, 6, 9, 5, 4, 7]\n",
            "data sesudah diurutkan =  [4, 5, 6, 7, 8, 9]\n",
            "median =  6.5\n",
            "median dengan statistics =  6.5\n",
            "median dengan numpy =  6.5\n"
          ],
          "name": "stdout"
        }
      ]
    },
    {
      "cell_type": "markdown",
      "metadata": {
        "id": "UBkGY3mfJOgk"
      },
      "source": [
        "**Modus**"
      ]
    },
    {
      "cell_type": "markdown",
      "metadata": {
        "id": "TAzaPS07JOgk"
      },
      "source": [
        "Jawab pertanyaan-pertanyaan berikut untuk membuat program/fungsi untuk menghitung mean.\n",
        "\n",
        "1. Apa itu modus?\n",
        "2. Bagaimana cara menghitung modus?\n",
        "3. Adakah masalah percabangan atau perulangan?\n",
        "4. Apa yang harus diketahui(Input)?\n",
        "5. Apa yang akan dihasilkan?\n",
        "6. Apa masalah yang mungkin menghalangi?"
      ]
    },
    {
      "cell_type": "markdown",
      "metadata": {
        "id": "uz87JLYJDgv3"
      },
      "source": [
        "**Jawaban**\n",
        "\n",
        "1. modus adalah nilai atau variabel data yang mempunyai frekuensi paling tinggi dalam distribusi data atau nilai yang paling banyak muncul dalam data.\n",
        "2. mengelompokan nilai yang sama dari sebuah data kemudian cari nilai yang paling banyak muncul dalam data.\n",
        "3. ada\n",
        "4. nilai dari data\n",
        "5. nilai yang paling banyak muncul dalam data\n",
        "6. jika dikerjakan secara manual akan sulit menghitung nilai yang sama dalam data yang besar."
      ]
    },
    {
      "cell_type": "markdown",
      "metadata": {
        "id": "wfkohVPMJOgl"
      },
      "source": [
        "Berikut contoh koding menghitung mean dalam bahasa Inggris. Silahkan gunakan sebagai petunjuk!!!\n",
        "\n",
        "```\n",
        "import collections\n",
        "# list of elements to calculate mode\n",
        "num_list = [21, 13, 19, 13,19,13]\n",
        "\n",
        "# Print the list\n",
        "print(num_list)\n",
        "\n",
        "# calculate the frequency of each item\n",
        "data = collections.Counter(num_list)\n",
        "data_list = dict(data)\n",
        "\n",
        "# Print the items with frequency\n",
        "print(data_list)\n",
        "\n",
        "# Find the highest frequency\n",
        "max_value = max(list(data.values()))\n",
        "mode_val = [num for num, freq in data_list.items() if freq == max_value]\n",
        "if len(mode_val) == len(num_list):\n",
        "   print(\"No mode in the list\")\n",
        "else:\n",
        "   print(\"The Mode of the list is : \" + ', '.join(map(str, mode_val)))\n",
        "```"
      ]
    },
    {
      "cell_type": "code",
      "metadata": {
        "id": "5bqyhbfAR3lP"
      },
      "source": [
        "import collections"
      ],
      "execution_count": 5,
      "outputs": []
    },
    {
      "cell_type": "code",
      "metadata": {
        "id": "H_9_1DvLJOgl",
        "colab": {
          "base_uri": "https://localhost:8080/"
        },
        "outputId": "91de8fd1-05ad-4e0d-ecd4-e1a706e0a949"
      },
      "source": [
        "# Modus\n",
        "# Buatlah program/fungsi menghitung Modus di sini!\n",
        "\n",
        "nilai = input('masukan data (pemisah dengan spasi) : ')\n",
        "data = []\n",
        "\n",
        "for x in nilai.split(' '):\n",
        "  data.append(int(x))\n",
        "print('Data = ', data)\n",
        "\n",
        "dist = collections.Counter(data)\n",
        "data_list = dict(dist)\n",
        "print('nilai dan frekuensinya = ', data_list)\n",
        "\n",
        "#cari frekuensi terbanyak\n",
        "frekmax = max(list(dist.values()))\n",
        "modeval = [num for num, freq in data_list.items() if freq == frekmax]\n",
        "\n",
        "if len(modeval) == len(data):\n",
        "  print('ada data yang belum dihitung')\n",
        "else :\n",
        "  print('modus = ',' , '.join(map(str, modeval)), 'dengan frekuensi sebesar ', frekmax)\n",
        "\n",
        "#atau \n",
        "from scipy import stats\n",
        "Modus_sp = stats.mode(data)\n",
        "print('Modus dengan scipy = ', Modus_sp) #hanya muncul salah satu modus saja"
      ],
      "execution_count": 6,
      "outputs": [
        {
          "output_type": "stream",
          "text": [
            "masukan data (pemisah dengan spasi) : 8 7 5 6 7 8\n",
            "Data =  [8, 7, 5, 6, 7, 8]\n",
            "nilai dan frekuensinya =  {8: 2, 7: 2, 5: 1, 6: 1}\n",
            "modus =  8 , 7 dengan frekuensi sebesar  2\n",
            "Modus dengan scipy =  ModeResult(mode=array([7]), count=array([2]))\n"
          ],
          "name": "stdout"
        }
      ]
    },
    {
      "cell_type": "markdown",
      "metadata": {
        "id": "DpBiMZoEJeQ_"
      },
      "source": [
        "## Ngoding Regresi Linear"
      ]
    },
    {
      "cell_type": "markdown",
      "metadata": {
        "id": "cVnpnTHDJhHb"
      },
      "source": [
        "Pada bagian ini kamu akan berlatih membuat kode pemrograman didasarkan pada sebuah penghitungan matematis yang sudah tersedia. Mulai dengan langkah-langkah sederhana dan contoh yang sederhana."
      ]
    },
    {
      "cell_type": "markdown",
      "metadata": {
        "id": "sk1wtVn8LBU8"
      },
      "source": [
        "Regresi Linear adalah ...\n",
        "\n",
        "https://teknikelektronika.com/analisis-regresi-linear-sederhana-simple-linear-regression/\n",
        "\n",
        "\n",
        "https://www.geeksforgeeks.org/linear-regression-python-implementation/\n",
        "\n",
        "\n"
      ]
    },
    {
      "cell_type": "markdown",
      "metadata": {
        "id": "AXq5q2bSJtuK"
      },
      "source": [
        "**[1] Import Library yang dibutuhkan**\n"
      ]
    },
    {
      "cell_type": "code",
      "metadata": {
        "id": "y3IrlqJfKMms"
      },
      "source": [
        "#Impor library numpy\n",
        "\n",
        "import numpy as np"
      ],
      "execution_count": 7,
      "outputs": []
    },
    {
      "cell_type": "markdown",
      "metadata": {
        "id": "TP4QODpDKbrL"
      },
      "source": [
        "**[2] Siapkan Data Dalam Bentuk Array**\n",
        "\n",
        "Siapkan data x dan y sebagai berikut:\n",
        "\n",
        "```\n",
        "x=[0, 1, 2, 3, 4, 5, 5, 7, 8, 9]\n",
        "y=[1, 3, 2, 5, 7, 8, 8, 9, 10, 12]\n",
        "\n",
        "```"
      ]
    },
    {
      "cell_type": "code",
      "metadata": {
        "id": "vffaYMUqK1au"
      },
      "source": [
        "# Dataset yang digunakan\n",
        "# Data x\n",
        "x = [0,1,2,3,4,5,5,7,8,9]\n",
        "x = np.array(x)\n",
        "# Data y\n",
        "y = [1,3,2,5,7,8,8,9,10,12]\n",
        "y = np.array(y)\n"
      ],
      "execution_count": 8,
      "outputs": []
    },
    {
      "cell_type": "markdown",
      "metadata": {
        "id": "hpJ5HUDfK4GF"
      },
      "source": [
        "**[3] Menghitung Jumlah Data**"
      ]
    },
    {
      "cell_type": "code",
      "metadata": {
        "id": "dSKTWa_ELbkz",
        "colab": {
          "base_uri": "https://localhost:8080/"
        },
        "outputId": "1564f7c8-4fe5-4d83-e1e3-ca0b9e4cfdfd"
      },
      "source": [
        "# Menghitung jumlah data (x)\n",
        "# Simpan dalam variabel n\n",
        " \n",
        "n = len(x)\n",
        "print(n)"
      ],
      "execution_count": 9,
      "outputs": [
        {
          "output_type": "stream",
          "text": [
            "10\n"
          ],
          "name": "stdout"
        }
      ]
    },
    {
      "cell_type": "markdown",
      "metadata": {
        "id": "MOp9oi5TLlLc"
      },
      "source": [
        "**[4] Menghitung rata-rata masing-masing vektor x dan y**"
      ]
    },
    {
      "cell_type": "code",
      "metadata": {
        "id": "KVsym4bJLrLw",
        "colab": {
          "base_uri": "https://localhost:8080/"
        },
        "outputId": "9b9d875e-eace-4b61-ef10-41baaaecb0af"
      },
      "source": [
        "# Menghitung rata-rata vektor x dan y\n",
        "# Simpan dalam m_x\n",
        "m_x = np.mean(x)\n",
        "print(m_x)\n",
        "# Simpan dalam m_y\n",
        "m_y = np.mean(y)\n",
        "print(m_y)"
      ],
      "execution_count": 10,
      "outputs": [
        {
          "output_type": "stream",
          "text": [
            "4.4\n",
            "6.5\n"
          ],
          "name": "stdout"
        }
      ]
    },
    {
      "cell_type": "markdown",
      "metadata": {
        "id": "rmHLx_PeOqEQ"
      },
      "source": [
        "**[5] Hitung cross-deviation dan deviation dari x**\n",
        "```\n",
        "SS_xy=jumlahan(y*x)-(n*mean(y)*mean(x))\n",
        "SS_xx=jumlahan(x*x)-(n*mean(x)*mean(x))\n",
        "```"
      ]
    },
    {
      "cell_type": "code",
      "metadata": {
        "id": "eSJ-PoR0PFOn",
        "colab": {
          "base_uri": "https://localhost:8080/"
        },
        "outputId": "eb3d47d3-0753-4a46-d361-15bbee224424"
      },
      "source": [
        "## SS_xy\n",
        "SS_xy = sum(np.multiply(x,y))-(n*m_y*m_x)\n",
        "print(SS_xy)\n",
        "## SS_xx\n",
        "SS_xx = sum(np.multiply(x,x))-(n*m_x*m_x)\n",
        "print(SS_xx)"
      ],
      "execution_count": 11,
      "outputs": [
        {
          "output_type": "stream",
          "text": [
            "95.0\n",
            "80.39999999999998\n"
          ],
          "name": "stdout"
        }
      ]
    },
    {
      "cell_type": "markdown",
      "metadata": {
        "id": "CfBcOQg0LyGv"
      },
      "source": [
        "**[6] Menghitung koefisien regresi b1 dan b0**\n",
        "\n",
        "```\n",
        "b_1 = SS_xy / SS_xx\n",
        "b_0 = m_y - b_1*m_x\n",
        "```"
      ]
    },
    {
      "cell_type": "code",
      "metadata": {
        "id": "1nafVsHFPqdG",
        "colab": {
          "base_uri": "https://localhost:8080/"
        },
        "outputId": "2fa2a1ef-3aa9-4005-a1fd-2ca26f81066d"
      },
      "source": [
        "## b_1\n",
        "b_1 = SS_xy/SS_xx\n",
        "print(b_1)\n",
        "## b_0\n",
        "b_0 = m_y - b_1*m_x\n",
        "print(b_0)"
      ],
      "execution_count": 12,
      "outputs": [
        {
          "output_type": "stream",
          "text": [
            "1.1815920398009954\n",
            "1.3009950248756201\n"
          ],
          "name": "stdout"
        }
      ]
    },
    {
      "cell_type": "markdown",
      "metadata": {
        "id": "YBMjLBgFPtkB"
      },
      "source": [
        "**[7] Prediksi Model**\n",
        "\n",
        "```\n",
        "y_pred = b_0 + b_1*x\n",
        "```"
      ]
    },
    {
      "cell_type": "code",
      "metadata": {
        "id": "ZAnHnZUMP749",
        "colab": {
          "base_uri": "https://localhost:8080/"
        },
        "outputId": "2674969b-7cfa-4972-f058-bb9239834d93"
      },
      "source": [
        "## Y pred\n",
        "y_pred = b_0 + b_1*x\n",
        "y_pred\n"
      ],
      "execution_count": 13,
      "outputs": [
        {
          "output_type": "execute_result",
          "data": {
            "text/plain": [
              "array([ 1.30099502,  2.48258706,  3.6641791 ,  4.84577114,  6.02736318,\n",
              "        7.20895522,  7.20895522,  9.5721393 , 10.75373134, 11.93532338])"
            ]
          },
          "metadata": {
            "tags": []
          },
          "execution_count": 13
        }
      ]
    },
    {
      "cell_type": "markdown",
      "metadata": {
        "id": "ZZV8OmcqP7bV"
      },
      "source": [
        "**[8] Menghitung selisih hasil prediksi dengan data sebenarnya**\n",
        "\n",
        "Galat= vektor y_pred - vektor y\n"
      ]
    },
    {
      "cell_type": "code",
      "metadata": {
        "id": "bQuaO4c1QNMm",
        "colab": {
          "base_uri": "https://localhost:8080/"
        },
        "outputId": "c2a3b7ba-4314-4aac-c98c-fd7049c61212"
      },
      "source": [
        "# Galat\n",
        "galat = y_pred-y\n",
        "galat\n"
      ],
      "execution_count": 14,
      "outputs": [
        {
          "output_type": "execute_result",
          "data": {
            "text/plain": [
              "array([ 0.30099502, -0.51741294,  1.6641791 , -0.15422886, -0.97263682,\n",
              "       -0.79104478, -0.79104478,  0.5721393 ,  0.75373134, -0.06467662])"
            ]
          },
          "metadata": {
            "tags": []
          },
          "execution_count": 14
        }
      ]
    }
  ]
}