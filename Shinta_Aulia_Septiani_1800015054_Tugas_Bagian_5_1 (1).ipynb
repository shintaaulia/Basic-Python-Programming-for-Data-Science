{
  "nbformat": 4,
  "nbformat_minor": 0,
  "metadata": {
    "colab": {
      "name": "Shinta Aulia Septiani 1800015054 Tugas Bagian 5.1.ipynb",
      "provenance": [],
      "collapsed_sections": []
    },
    "kernelspec": {
      "name": "python3",
      "display_name": "Python 3"
    },
    "language_info": {
      "name": "python"
    }
  },
  "cells": [
    {
      "cell_type": "markdown",
      "metadata": {
        "id": "SgMa5wMtgJ0_"
      },
      "source": [
        "## **SHINTA AULIA SEPTIANI (1800015054)**\n",
        "\n",
        "---\n",
        "\n"
      ]
    },
    {
      "cell_type": "markdown",
      "metadata": {
        "id": "OpuEOOT1gPHn"
      },
      "source": [
        "#Buatlah Sebuah Fungsi dengan Input [LIST] dan Output genap ganjil dalam bentuk [LIST]"
      ]
    },
    {
      "cell_type": "code",
      "metadata": {
        "colab": {
          "base_uri": "https://localhost:8080/"
        },
        "id": "oj60aqmEgJAD",
        "outputId": "3ccf3d97-b01d-41fa-b580-94237e787405"
      },
      "source": [
        "def fungsi1(x) :\n",
        "  #membuat list angka\n",
        "  angka = list(range(x))\n",
        "  print (angka)\n",
        "\n",
        "fungsi1(100)"
      ],
      "execution_count": null,
      "outputs": [
        {
          "output_type": "stream",
          "text": [
            "[0, 1, 2, 3, 4, 5, 6, 7, 8, 9, 10, 11, 12, 13, 14, 15, 16, 17, 18, 19, 20, 21, 22, 23, 24, 25, 26, 27, 28, 29, 30, 31, 32, 33, 34, 35, 36, 37, 38, 39, 40, 41, 42, 43, 44, 45, 46, 47, 48, 49, 50, 51, 52, 53, 54, 55, 56, 57, 58, 59, 60, 61, 62, 63, 64, 65, 66, 67, 68, 69, 70, 71, 72, 73, 74, 75, 76, 77, 78, 79, 80, 81, 82, 83, 84, 85, 86, 87, 88, 89, 90, 91, 92, 93, 94, 95, 96, 97, 98, 99]\n"
          ],
          "name": "stdout"
        }
      ]
    },
    {
      "cell_type": "code",
      "metadata": {
        "colab": {
          "base_uri": "https://localhost:8080/"
        },
        "id": "ekYZElZRi01x",
        "outputId": "bd7e20bc-c283-49d9-b9e0-220817be2076"
      },
      "source": [
        "#----------------------MODEL 1---------------------\n",
        "def fungsigenap(a) : #input angka\n",
        "    #list genap\n",
        "    list_genap = [(i) for i in range(a) if i % 2 == 0]\n",
        "    return list_genap\n",
        "\n",
        "print(fungsigenap(50))\n",
        "\n",
        "def fungsiganjil(a) :\n",
        "    #list ganjil\n",
        "    list_ganjil = [(i) for i in range(a) if i % 2 != 0]\n",
        "    return list_ganjil\n",
        "print(fungsiganjil(50))"
      ],
      "execution_count": null,
      "outputs": [
        {
          "output_type": "stream",
          "text": [
            "[0, 2, 4, 6, 8, 10, 12, 14, 16, 18, 20, 22, 24, 26, 28, 30, 32, 34, 36, 38, 40, 42, 44, 46, 48]\n",
            "[1, 3, 5, 7, 9, 11, 13, 15, 17, 19, 21, 23, 25, 27, 29, 31, 33, 35, 37, 39, 41, 43, 45, 47, 49]\n"
          ],
          "name": "stdout"
        }
      ]
    },
    {
      "cell_type": "code",
      "metadata": {
        "colab": {
          "base_uri": "https://localhost:8080/"
        },
        "id": "LV5HXzHlj3JO",
        "outputId": "eaf76453-fadf-4e05-96bc-151312f870bb"
      },
      "source": [
        " #---------------------MODEL 2---------------------\n",
        "\n",
        "def fungsi3 (x) :\n",
        "  angka = list(range(x))\n",
        "  print(\"list = \", angka)\n",
        "  print()\n",
        "  \n",
        "  #dengan a adalah kategori bilangan genap/ganjil\n",
        "  ls1 = []\n",
        "  ls1a = []\n",
        "  ls1b = []\n",
        "  ls2 = []\n",
        "  ls2a = []\n",
        "  ls2b = []\n",
        "  for i in range(x):\n",
        "    if i%2 == 0 :\n",
        "      a = \"genap\"\n",
        "      ls1.append([i, a]) \n",
        "      ls1a.append(a)\n",
        "      ls1b.append(i)\n",
        "    else :\n",
        "      a = \"ganjil\"\n",
        "      ls2.append([i, a])\n",
        "      ls2a.append(a)\n",
        "      ls2b.append(i)\n",
        "    \n",
        "  print(\"List Genap = {}\". format(ls1))\n",
        "  print(\"List Ganjil = {}\". format(ls2))\n",
        "  print()\n",
        "  print(\"List Genap = {}\". format(ls1a))\n",
        "  print(\"List Ganjil = {}\". format(ls2a))\n",
        "  print()\n",
        "  print(\"List Genap = {}\". format(ls1b))\n",
        "  print(\"List Ganjil = {}\". format(ls2b))\n",
        "\n",
        "fungsi3(50)"
      ],
      "execution_count": 10,
      "outputs": [
        {
          "output_type": "stream",
          "text": [
            "list =  [0, 1, 2, 3, 4, 5, 6, 7, 8, 9, 10, 11, 12, 13, 14, 15, 16, 17, 18, 19, 20, 21, 22, 23, 24, 25, 26, 27, 28, 29, 30, 31, 32, 33, 34, 35, 36, 37, 38, 39, 40, 41, 42, 43, 44, 45, 46, 47, 48, 49]\n",
            "\n",
            "List Genap = [[0, 'genap'], [2, 'genap'], [4, 'genap'], [6, 'genap'], [8, 'genap'], [10, 'genap'], [12, 'genap'], [14, 'genap'], [16, 'genap'], [18, 'genap'], [20, 'genap'], [22, 'genap'], [24, 'genap'], [26, 'genap'], [28, 'genap'], [30, 'genap'], [32, 'genap'], [34, 'genap'], [36, 'genap'], [38, 'genap'], [40, 'genap'], [42, 'genap'], [44, 'genap'], [46, 'genap'], [48, 'genap']]\n",
            "List Ganjil = [[1, 'ganjil'], [3, 'ganjil'], [5, 'ganjil'], [7, 'ganjil'], [9, 'ganjil'], [11, 'ganjil'], [13, 'ganjil'], [15, 'ganjil'], [17, 'ganjil'], [19, 'ganjil'], [21, 'ganjil'], [23, 'ganjil'], [25, 'ganjil'], [27, 'ganjil'], [29, 'ganjil'], [31, 'ganjil'], [33, 'ganjil'], [35, 'ganjil'], [37, 'ganjil'], [39, 'ganjil'], [41, 'ganjil'], [43, 'ganjil'], [45, 'ganjil'], [47, 'ganjil'], [49, 'ganjil']]\n",
            "\n",
            "List Genap = ['genap', 'genap', 'genap', 'genap', 'genap', 'genap', 'genap', 'genap', 'genap', 'genap', 'genap', 'genap', 'genap', 'genap', 'genap', 'genap', 'genap', 'genap', 'genap', 'genap', 'genap', 'genap', 'genap', 'genap', 'genap']\n",
            "List Ganjil = ['ganjil', 'ganjil', 'ganjil', 'ganjil', 'ganjil', 'ganjil', 'ganjil', 'ganjil', 'ganjil', 'ganjil', 'ganjil', 'ganjil', 'ganjil', 'ganjil', 'ganjil', 'ganjil', 'ganjil', 'ganjil', 'ganjil', 'ganjil', 'ganjil', 'ganjil', 'ganjil', 'ganjil', 'ganjil']\n",
            "\n",
            "List Genap = [0, 2, 4, 6, 8, 10, 12, 14, 16, 18, 20, 22, 24, 26, 28, 30, 32, 34, 36, 38, 40, 42, 44, 46, 48]\n",
            "List Ganjil = [1, 3, 5, 7, 9, 11, 13, 15, 17, 19, 21, 23, 25, 27, 29, 31, 33, 35, 37, 39, 41, 43, 45, 47, 49]\n"
          ],
          "name": "stdout"
        }
      ]
    }
  ]
}